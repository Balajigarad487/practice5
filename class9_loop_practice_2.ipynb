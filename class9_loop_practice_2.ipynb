{
 "cells": [
  {
   "cell_type": "markdown",
   "metadata": {},
   "source": [
    "Write a Python program to convert temperatures to and from Celsius and Fahrenheit.\n",
    "Formula : c/5 = f-32/9 where c = temperature in celsius and f = temperature in fahrenheit\n",
    "Expected Output :\n",
    "60°C is 140 in Fahrenheit\n",
    "45°F is 7 in Celsius"
   ]
  },
  {
   "cell_type": "code",
   "execution_count": 2,
   "metadata": {},
   "outputs": [
    {
     "name": "stdout",
     "output_type": "stream",
     "text": [
      "60°C is 140.00 in Fahrenheit\n",
      "45°F is 7 in Celsius\n"
     ]
    }
   ],
   "source": [
    "celsius_temperature = int(input(\"Enter celsius temperature: \"))\n",
    "fahrenheit_temperature = (celsius_temperature * 9 / 5) + 32\n",
    "print(f\"{celsius_temperature}°C is {fahrenheit_temperature:.2f} in Fahrenheit\")\n",
    "\n",
    "fahrenheit_temperature = int(input(\"Enter fahrenheit temperature: \"))\n",
    "celsius_temperature = (fahrenheit_temperature - 32) * 5 / 9\n",
    "print(f\"{fahrenheit_temperature}°F is {int(celsius_temperature)} in Celsius\")"
   ]
  },
  {
   "cell_type": "code",
   "execution_count": 3,
   "metadata": {},
   "outputs": [
    {
     "name": "stdout",
     "output_type": "stream",
     "text": [
      "108.0 f\n"
     ]
    }
   ],
   "source": [
    "celsius_temp = int(input(\"enter celisius temp: \"))\n",
    "\n",
    "fahren_temp = (celsius_temp*9/5)\n",
    "\n",
    "print(fahren_temp,\"f\")\n"
   ]
  },
  {
   "cell_type": "code",
   "execution_count": 6,
   "metadata": {},
   "outputs": [
    {
     "name": "stdout",
     "output_type": "stream",
     "text": [
      "90 degree celsius in fehrenheit is 194.0 f\n"
     ]
    }
   ],
   "source": [
    "\n",
    "c = int(input(\"Enter the tempreture in celsius : \"))\n",
    "f = (c*9)/5 + 32\n",
    "print(f\"{c} degree celsius in fehrenheit is {f} f\")"
   ]
  },
  {
   "cell_type": "markdown",
   "metadata": {},
   "source": [
    "# Number guessing game.\n",
    "--> You will take a number between 1 to 10. and then ask the user to guess that number, if the user is making right\n",
    "guess so print \"Well done!!! You have made a right guess\" otherwise you will ask the user to play again."
   ]
  },
  {
   "cell_type": "markdown",
   "metadata": {},
   "source": [
    "\n"
   ]
  },
  {
   "cell_type": "code",
   "execution_count": 8,
   "metadata": {},
   "outputs": [
    {
     "name": "stdout",
     "output_type": "stream",
     "text": [
      "Oops,,It was a wrong guess\n",
      "Thankyou for visiting our site\n"
     ]
    }
   ],
   "source": [
    "number = 15\n",
    "while True:\n",
    "    guess = int(input(\"Guess a number between 10 to 20 : \"))\n",
    "    if guess == number:\n",
    "        print(\"Well done, you have guessed it right!!!\")\n",
    "        break\n",
    "    else:\n",
    "        print(\"Oops,,It was a wrong guess\")\n",
    "        choice = int(input(\"Enter 0 to exit the game and 1 to try again\"))\n",
    "        if choice == 0:\n",
    "            break\n",
    "    \n",
    "print(\"Thankyou for visiting our site\")\n",
    "\n"
   ]
  },
  {
   "cell_type": "code",
   "execution_count": 60,
   "metadata": {},
   "outputs": [
    {
     "name": "stdout",
     "output_type": "stream",
     "text": [
      "8309\n"
     ]
    }
   ],
   "source": [
    "import random\n",
    "\n",
    "number = random.randrange(1000,9999)\n",
    "print(number)\n",
    "while True:\n",
    "    guess = int(input(\"Guess a number between 1 to 30 : \"))\n",
    "    if guess == number:\n",
    "        print(\"Well done, you have guessed it right!!!\")\n",
    "        break\n",
    "    else:\n",
    "        print(\"Oops,,It was a wrong guess\")\n",
    "        choice = int(input(\"Enter 0 to exit the game and 1 to try again\"))\n",
    "        if choice == 0:\n",
    "            break\n",
    "    \n",
    "    \n",
    "print(\"Thankyou for visiting our site\")\n"
   ]
  },
  {
   "cell_type": "code",
   "execution_count": null,
   "metadata": {},
   "outputs": [],
   "source": [
    "string1 = \"abcde@1234*&^pqrs\"\n",
    "output: \n",
    "alphabets : 9\n",
    "digits : 4\n",
    "special characters : 4"
   ]
  },
  {
   "cell_type": "markdown",
   "metadata": {},
   "source": [
    "Write a program which takes input of a string from the user, the string can contain combination of alphabets, digits and special characters. you need to count the total number of alphabets, digits and special characters in that string."
   ]
  },
  {
   "cell_type": "code",
   "execution_count": null,
   "metadata": {},
   "outputs": [],
   "source": [
    "Write a Python program to find numbers between 100 and 400 (both included) where each digit of a number \n",
    "is an even number. The numbers obtained should be printed in a comma-separated sequence.\n",
    "\n",
    "[200,202,204,206,208,222,224,226,228,.................................... 400]"
   ]
  },
  {
   "cell_type": "markdown",
   "metadata": {},
   "source": []
  }
 ],
 "metadata": {
  "kernelspec": {
   "display_name": "Python 3",
   "language": "python",
   "name": "python3"
  },
  "language_info": {
   "codemirror_mode": {
    "name": "ipython",
    "version": 3
   },
   "file_extension": ".py",
   "mimetype": "text/x-python",
   "name": "python",
   "nbconvert_exporter": "python",
   "pygments_lexer": "ipython3",
   "version": "3.9.13"
  },
  "orig_nbformat": 4
 },
 "nbformat": 4,
 "nbformat_minor": 2
}
