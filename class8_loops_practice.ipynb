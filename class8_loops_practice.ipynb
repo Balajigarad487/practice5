{
 "cells": [
  {
   "cell_type": "code",
   "execution_count": 4,
   "metadata": {},
   "outputs": [
    {
     "name": "stdout",
     "output_type": "stream",
     "text": [
      "4\n",
      "8\n",
      "12\n",
      "16\n",
      "20\n",
      "24\n",
      "28\n",
      "32\n",
      "36\n",
      "40\n"
     ]
    }
   ],
   "source": [
    "# Program to print the multiplication table\n",
    "number = int(input(\"Enter the number : \"))\n",
    "for i in range(1,11):\n",
    "    print(number*i)"
   ]
  },
  {
   "cell_type": "code",
   "execution_count": 3,
   "metadata": {},
   "outputs": [
    {
     "name": "stdout",
     "output_type": "stream",
     "text": [
      "7*1=7\n",
      "7*2=14\n",
      "7*3=21\n",
      "7*4=28\n",
      "7*5=35\n",
      "7*6=42\n",
      "7*7=49\n",
      "7*8=56\n",
      "7*9=63\n",
      "7*10=70\n"
     ]
    }
   ],
   "source": [
    "# Program to print the multiplication table\n",
    "number = int(input(\"Enter the number : \"))\n",
    "for i in range(1,11):\n",
    "    multiply = number*i\n",
    "    print(f\"\"\"{number} * {i} = {multiply} \"\"\")\n",
    "    # print(number,\" * \",i,\" = \",multiply)"
   ]
  },
  {
   "cell_type": "code",
   "execution_count": 6,
   "metadata": {},
   "outputs": [
    {
     "name": "stdout",
     "output_type": "stream",
     "text": [
      "6 * 1 = 6 \n",
      "6 * 2 = 12 \n",
      "6 * 3 = 18 \n",
      "6 * 4 = 24 \n",
      "6 * 5 = 30 \n",
      "6 * 6 = 36 \n",
      "6 * 7 = 42 \n",
      "6 * 8 = 48 \n",
      "6 * 9 = 54 \n",
      "6 * 10 = 60 \n"
     ]
    }
   ],
   "source": [
    "# Program to print the multiplication table\n",
    "number = int(input(\"Enter the number : \"))\n",
    "i = 1\n",
    "while i<11:\n",
    "    multiply = number*i\n",
    "    print(f\"\"\"{number} * {i} = {multiply} \"\"\")\n",
    "    i+=1"
   ]
  },
  {
   "cell_type": "code",
   "execution_count": 9,
   "metadata": {},
   "outputs": [
    {
     "name": "stdout",
     "output_type": "stream",
     "text": [
      "2 4 6 8 10 12 14 16 \n",
      "Sum of first 10 even numbers is :  72\n"
     ]
    }
   ],
   "source": [
    "# Write a program to find the sum of first 10 even numbers.\n",
    "n = int(input(\"Enter the value of n\"))\n",
    "i = 1\n",
    "count = 0\n",
    "sum = 0\n",
    "while count<n:\n",
    "    if i%2==0:\n",
    "        print(i,end = \" \")\n",
    "        sum+=i\n",
    "        count+=1\n",
    "\n",
    "    i+=1\n",
    "\n",
    "print()\n",
    "print(\"Sum of first 10 even numbers is : \",sum)"
   ]
  }
 ],
 "metadata": {
  "kernelspec": {
   "display_name": "Python 3",
   "language": "python",
   "name": "python3"
  },
  "language_info": {
   "codemirror_mode": {
    "name": "ipython",
    "version": 3
   },
   "file_extension": ".py",
   "mimetype": "text/x-python",
   "name": "python",
   "nbconvert_exporter": "python",
   "pygments_lexer": "ipython3",
   "version": "3.9.13"
  },
  "orig_nbformat": 4
 },
 "nbformat": 4,
 "nbformat_minor": 2
}
