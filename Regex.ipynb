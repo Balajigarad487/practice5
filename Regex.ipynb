{
 "cells": [
  {
   "cell_type": "markdown",
   "metadata": {},
   "source": [
    "Regular expressions : Regular expressions helps to find specific search patterns, it is a sequence of characters.\n",
    "\n",
    "For working with regular expression, we need to import a module named re module. \n"
   ]
  },
  {
   "cell_type": "code",
   "execution_count": 2,
   "metadata": {},
   "outputs": [],
   "source": [
    "import re"
   ]
  },
  {
   "cell_type": "markdown",
   "metadata": {},
   "source": [
    "# Functions in regular expressions : \n",
    "1. findall(search,string) - Returns a list containing all the matches.\n",
    "2. search(search,string) - Returns a match object.\n",
    "3. split(search,string) - Returns a list of substring, splits the string wherever it finds a match.\n",
    "4. sub(search,replace,string) - Replaces match string with given string."
   ]
  },
  {
   "cell_type": "code",
   "execution_count": 6,
   "metadata": {},
   "outputs": [
    {
     "name": "stdout",
     "output_type": "stream",
     "text": [
      "<re.Match object; span=(41, 49), match='language'>\n"
     ]
    }
   ],
   "source": [
    "string = \"Python is an object oriented programming language language\"\n",
    "search = 'object'\n",
    "find = re.search(search,string)\n",
    "print(find)"
   ]
  },
  {
   "cell_type": "markdown",
   "metadata": {},
   "source": []
  },
  {
   "cell_type": "code",
   "execution_count": 8,
   "metadata": {},
   "outputs": [
    {
     "name": "stdout",
     "output_type": "stream",
     "text": [
      "['language', 'language']\n"
     ]
    }
   ],
   "source": [
    "string = \"Python is an object oriented programming language language\"\n",
    "search = 'language'\n",
    "find = re.findall(search,string)\n",
    "print(find)"
   ]
  },
  {
   "cell_type": "code",
   "execution_count": 12,
   "metadata": {},
   "outputs": [
    {
     "name": "stdout",
     "output_type": "stream",
     "text": [
      "['Python', 'is', 'an', 'object oriented programming language']\n"
     ]
    }
   ],
   "source": [
    "string = \"Python is an object oriented programming language\"\n",
    "search = ' '\n",
    "find = re.split(search,string,3)\n",
    "print(find)"
   ]
  },
  {
   "cell_type": "code",
   "execution_count": 14,
   "metadata": {},
   "outputs": [
    {
     "data": {
      "text/plain": [
       "'Python_is_an_object oriented programming language'"
      ]
     },
     "execution_count": 14,
     "metadata": {},
     "output_type": "execute_result"
    }
   ],
   "source": [
    "string = \"Python is an object oriented programming language\"\n",
    "search = ' '\n",
    "re.sub(search,'_',string,3)"
   ]
  },
  {
   "cell_type": "markdown",
   "metadata": {},
   "source": [
    "# Metacharacters - this are the characters which has some meaning in python. \n",
    "1. \"[]\" - A set of characters, for e.g [a-z],[A-Z],[a-Z], [0-9],[a-e]\n",
    "2.  \"\\\" - A special sequence for e.g \\d\n",
    "3. \".\" - Any character\n",
    "4. \"^\" - Starts with, It searches for the substring in the beginning of the string.\n",
    "5. \"$\" - ends with, It searches for the substring at the end of the string.\n",
    "6. \"*\" - Zero or more characters   \n",
    "7. \"+\" - One or more characters.\n",
    "8. \"?\" - Zero or one characters.\n",
    "9. \"{}\" - exact number of characters. \n",
    "10. | - either or\n"
   ]
  },
  {
   "cell_type": "markdown",
   "metadata": {},
   "source": []
  },
  {
   "cell_type": "code",
   "execution_count": 15,
   "metadata": {},
   "outputs": [
    {
     "name": "stdout",
     "output_type": "stream",
     "text": [
      "['a', 'b', 'e', 'c', 'e', 'e', 'd', 'g', 'a', 'g', 'a', 'g', 'a', 'g', 'e', 'a', 'g', 'a', 'g', 'e']\n"
     ]
    }
   ],
   "source": [
    "# 1. \"[]\" - A set of characters, for e.g [a-z],[A-Z],[a-Z], [0-9]\n",
    "string = \"Python is an object oriented programming language language\"\n",
    "search = '[a-g]'\n",
    "find = re.findall(search,string)\n",
    "print(find)"
   ]
  },
  {
   "cell_type": "markdown",
   "metadata": {},
   "source": []
  },
  {
   "cell_type": "code",
   "execution_count": 17,
   "metadata": {},
   "outputs": [
    {
     "name": "stdout",
     "output_type": "stream",
     "text": [
      "['1', '1', '4', '5', '3', '6', '4', '7', '0', '0', '1', '2', '3']\n"
     ]
    }
   ],
   "source": [
    "# 2.  \"\\\" - A special sequence for e.g \\d - digits\n",
    "string = \"11453647Python is an object oriented programming language language00123\"\n",
    "search = '\\d'\n",
    "find = re.findall(search,string)\n",
    "print(find)"
   ]
  },
  {
   "cell_type": "code",
   "execution_count": 26,
   "metadata": {},
   "outputs": [
    {
     "name": "stdout",
     "output_type": "stream",
     "text": [
      "Match found\n"
     ]
    }
   ],
   "source": [
    "# 3. \".\" - Any character\n",
    "string = \"Python Python is an object oriented programming language language\"\n",
    "search = 'P..h.n'\n",
    "find = re.findall(search,string)\n",
    "if find:\n",
    "    print(\"Match found\")\n",
    "# print(find)"
   ]
  },
  {
   "cell_type": "code",
   "execution_count": 35,
   "metadata": {},
   "outputs": [
    {
     "name": "stdout",
     "output_type": "stream",
     "text": [
      "['Python is an']\n",
      "Match found\n"
     ]
    }
   ],
   "source": [
    "# 4. \"^\" - Starts with\n",
    "string = \"Python is an object oriented programming language language\"\n",
    "search = '^Python is an'\n",
    "find = re.findall(search,string)\n",
    "print(find)\n",
    "if find:\n",
    "    print(\"Match found\")\n",
    "\n"
   ]
  },
  {
   "cell_type": "code",
   "execution_count": 33,
   "metadata": {},
   "outputs": [
    {
     "name": "stdout",
     "output_type": "stream",
     "text": [
      "Match found\n",
      "['language']\n"
     ]
    }
   ],
   "source": [
    "# 5. \"$\" - ends with, It searches for the substring at the end of the string.\n",
    "string = \"Python is an object oriented programming language language\"\n",
    "search = 'langu...$'\n",
    "find = re.findall(search,string)\n",
    "if find:\n",
    "    print(\"Match found\")\n",
    "else:\n",
    "    print(\"Match not found\")\n",
    "\n",
    "print(find)\n"
   ]
  },
  {
   "cell_type": "code",
   "execution_count": 37,
   "metadata": {},
   "outputs": [
    {
     "name": "stdout",
     "output_type": "stream",
     "text": [
      "Match found\n",
      "['language language']\n"
     ]
    }
   ],
   "source": [
    "# 6. \"*\" - Zero or more characters.\n",
    "string = \"Python is an object oriented programming language language\"\n",
    "search = 'lang.*e'\n",
    "find = re.findall(search,string)\n",
    "if find:\n",
    "    print(\"Match found\")\n",
    "else:\n",
    "    print(\"Match not found\")\n",
    "\n",
    "print(find)\n"
   ]
  },
  {
   "cell_type": "code",
   "execution_count": 42,
   "metadata": {},
   "outputs": [
    {
     "name": "stdout",
     "output_type": "stream",
     "text": [
      "Match not found\n",
      "[]\n"
     ]
    }
   ],
   "source": [
    "# 7. \"+\" - One or more characters.\n",
    "\n",
    "string = \"Python is an object oriented programming language\"\n",
    "search = 'languag.+e'\n",
    "find = re.findall(search,string)\n",
    "if find:\n",
    "    print(\"Match found\")\n",
    "else:\n",
    "    print(\"Match not found\")\n",
    "\n",
    "print(find)"
   ]
  },
  {
   "cell_type": "code",
   "execution_count": 45,
   "metadata": {},
   "outputs": [
    {
     "name": "stdout",
     "output_type": "stream",
     "text": [
      "Match not found\n",
      "[]\n"
     ]
    }
   ],
   "source": [
    "#  8. \"?\" - Zero or one characters.\n",
    "\n",
    "string = \"Python is an object oriented programming language\"\n",
    "search = 'lang.?e'\n",
    "find = re.findall(search,string)\n",
    "if find:\n",
    "    print(\"Match found\")\n",
    "else:\n",
    "    print(\"Match not found\")\n",
    "\n",
    "print(find)"
   ]
  },
  {
   "cell_type": "code",
   "execution_count": 3,
   "metadata": {},
   "outputs": [
    {
     "name": "stdout",
     "output_type": "stream",
     "text": [
      "Match found\n",
      "['program']\n"
     ]
    }
   ],
   "source": [
    "# 9. \"{}\" - exact number of characters.\n",
    "\n",
    "string = \"Python is an object oriented programming language \"\n",
    "search = 'pro.{3}m'        \n",
    "find = re.findall(search,string)\n",
    "if find:\n",
    "    print(\"Match found\")\n",
    "else:\n",
    "    print(\"Match not found\")\n",
    "\n",
    "print(find)\n"
   ]
  },
  {
   "cell_type": "code",
   "execution_count": 55,
   "metadata": {},
   "outputs": [
    {
     "name": "stdout",
     "output_type": "stream",
     "text": [
      "Match found\n",
      "['object']\n"
     ]
    }
   ],
   "source": [
    "# 10. | - either or\n",
    "string = \"Python is an object oriented programming language\"\n",
    "search = 'object|interpreted'\n",
    "find = re.findall(search,string)\n",
    "if find:\n",
    "    print(\"Match found\")\n",
    "else:\n",
    "    print(\"Match not found\")\n",
    "\n",
    "print(find)\n"
   ]
  },
  {
   "cell_type": "markdown",
   "metadata": {},
   "source": [
    "# sets []\n",
    "1. [abcd] - returns a match whenever one of the specified character occurs in the string.\n",
    "2. [e-o] - returns a match whenever any character b/w the given range occurs.\n",
    "3. [^xyz] - returns a match whenever other than the specified character occurs in the string\n",
    "4. [2345] -returns a match whenever one of the specified digits occurs.\n",
    "5. [6-9] - returns a match whenever any digit b/w the given range occurs.\n",
    "6. [1234][0-9] - returns a match whenever any such two digit number is found"
   ]
  },
  {
   "cell_type": "code",
   "execution_count": 56,
   "metadata": {},
   "outputs": [
    {
     "name": "stdout",
     "output_type": "stream",
     "text": [
      "['o', 'i', 'a', 'o', 'e', 'o', 'i', 'e', 'e', 'o', 'a', 'i', 'a', 'u', 'a', 'e', 'a', 'u', 'a', 'e']\n"
     ]
    }
   ],
   "source": [
    "# 1. [abcd]\n",
    "string = \"Python is an object oriented programming language language\"\n",
    "search = '[aeiou]'\n",
    "find = re.findall(search,string)\n",
    "print(find)"
   ]
  },
  {
   "cell_type": "code",
   "execution_count": 59,
   "metadata": {},
   "outputs": [
    {
     "name": "stdout",
     "output_type": "stream",
     "text": [
      "[]\n"
     ]
    }
   ],
   "source": [
    "# 2. [e-o] - returns a match whenever any character b/w the given range occurs.\n",
    "string = \"Python is an object oriented programming language language\"\n",
    "search = '[E-I]'\n",
    "find = re.findall(search,string)\n",
    "print(find)"
   ]
  },
  {
   "cell_type": "code",
   "execution_count": 61,
   "metadata": {},
   "outputs": [
    {
     "name": "stdout",
     "output_type": "stream",
     "text": [
      "['P', 'y', 't', 'h', 'O', 'n', ' ', 's', ' ', 'n', ' ', 'b', 'j', 'c', 't', ' ', 'r', 'n', 't', 'd', ' ', 'p', 'r', 'g', 'r', 'm', 'm', 'n', 'g', ' ', 'l', 'n', 'g', 'g', ' ', 'l', 'n', 'g', 'g']\n"
     ]
    }
   ],
   "source": [
    "#  3. [^xyz] - returns a match whenever other than the specified character occurs in the string\n",
    "string = \"PythOn is an object oriented programming language language\"\n",
    "search = '[^aeiou]'\n",
    "find = re.findall(search,string)\n",
    "print(find)\n"
   ]
  },
  {
   "cell_type": "code",
   "execution_count": 63,
   "metadata": {},
   "outputs": [
    {
     "name": "stdout",
     "output_type": "stream",
     "text": [
      "['0', '0', ' ', 'P', 'y', 't', 'h', 'o', 'n', ' ', 'i', 's', ' ', 'a', 'n', ' ', 'o', 'b', 'j', 'e', 'c', 't', ' ', 'o', 'r', 'i', 'e', 'n', 't', 'e', 'd', ' ', 'p', 'r', 'o', 'g', 'r', 'a', 'm', 'm', 'i', 'n', 'g', ' ', 'l', 'a', 'n', 'g', 'u', 'a', 'g', 'e', ' ', '@', ' ', '0', '4', '5']\n"
     ]
    }
   ],
   "source": [
    "\n",
    "# 4. [2345] -returns a match whenever one of the specified digits occurs.\n",
    "string = \"001 Python is an object oriented programming language @ 203453\"\n",
    "search = '[123]'\n",
    "find = re.findall(search,string)\n",
    "print(find)\n"
   ]
  },
  {
   "cell_type": "code",
   "execution_count": 65,
   "metadata": {},
   "outputs": [
    {
     "name": "stdout",
     "output_type": "stream",
     "text": [
      "['0', '0', '1', '2', '0', '3', '4', '3']\n"
     ]
    }
   ],
   "source": [
    "# 5. [6-9] - returns a match whenever any digit b/w the given range occurs.\n",
    "string = \"001 Python is an object oriented programming language @ 203453\"\n",
    "search = '[0-4]'\n",
    "find = re.findall(search,string)\n",
    "print(find)\n"
   ]
  },
  {
   "cell_type": "code",
   "execution_count": 67,
   "metadata": {},
   "outputs": [
    {
     "name": "stdout",
     "output_type": "stream",
     "text": [
      "['20', '34', '53']\n"
     ]
    }
   ],
   "source": [
    "# 6. [1234][0-9] - returns a match whenever any such two digit number is found\n",
    "string = \"001 Python is an object oriented programming language @ 203453\"\n",
    "search = '[1235][0-9]'\n",
    "find = re.findall(search,string)\n",
    "print(find)\n"
   ]
  },
  {
   "cell_type": "markdown",
   "metadata": {},
   "source": [
    "# Special Sequences : \n",
    "1. \"\\A\" - returns a match if the substring is present at the beginning of the string.\n",
    "2. \"\\Z\" - returns a match if the substring is present at the end of the string.\n",
    "3. \"\\d\" - returns a match if the substring is a digit\n",
    "4. \"\\D\" - returns a match if the character is not a digit\n",
    "5. \"\\b\" - returns a match if the substring is present at the beginning or the end of the word in string.\n",
    "6. \"\\B\" - returns a match if the substring is not present at the beginning or the end of the word in string.\n",
    "7. \"\\s\" - returns a match if the character is whitespace.\n",
    "8. \"\\S\" - returns a match if the character is not a whitespace.\n",
    "9. \"\\w\" - returns a match if the string contains any word character(alphabet,underscore,digit)\n",
    "10. \"\\W\" - returns a match if the character is not any word character(alphabet,underscore,digit)"
   ]
  },
  {
   "cell_type": "code",
   "execution_count": 5,
   "metadata": {},
   "outputs": [
    {
     "name": "stdout",
     "output_type": "stream",
     "text": [
      "[]\n"
     ]
    }
   ],
   "source": [
    "# \"\\A\"\n",
    "string = \"Python is an object oriented programming language @ 203453\"\n",
    "search = '\\Aobject'\n",
    "find = re.findall(search,string)\n",
    "print(find)"
   ]
  },
  {
   "cell_type": "code",
   "execution_count": 9,
   "metadata": {},
   "outputs": [
    {
     "name": "stdout",
     "output_type": "stream",
     "text": [
      "['453']\n"
     ]
    }
   ],
   "source": [
    "# \"\\Z\"\n",
    "string = \"Python is an object oriented programming language @ 203453\"\n",
    "search = '453\\Z'\n",
    "find = re.findall(search,string)\n",
    "print(find)"
   ]
  },
  {
   "cell_type": "code",
   "execution_count": 10,
   "metadata": {},
   "outputs": [
    {
     "name": "stdout",
     "output_type": "stream",
     "text": [
      "['2', '0', '3', '4', '5', '3']\n"
     ]
    }
   ],
   "source": [
    "# \"\\d\"\n",
    "string = \"Python is an object oriented programming language @ 203453\"\n",
    "search = '\\d'\n",
    "find = re.findall(search,string)\n",
    "print(find)"
   ]
  },
  {
   "cell_type": "code",
   "execution_count": 11,
   "metadata": {},
   "outputs": [
    {
     "name": "stdout",
     "output_type": "stream",
     "text": [
      "['P', 'y', 't', 'h', 'o', 'n', ' ', 'i', 's', ' ', 'a', 'n', ' ', 'o', 'b', 'j', 'e', 'c', 't', ' ', 'o', 'r', 'i', 'e', 'n', 't', 'e', 'd', ' ', 'p', 'r', 'o', 'g', 'r', 'a', 'm', 'm', 'i', 'n', 'g', ' ', 'l', 'a', 'n', 'g', 'u', 'a', 'g', 'e', ' ', '@', ' ']\n"
     ]
    }
   ],
   "source": [
    "# 4. \"\\D\" - returns a match if the character is not a digit.\n",
    "string = \"Python is an object oriented programming language @ 203453\"\n",
    "search = '\\D'\n",
    "find = re.findall(search,string)\n",
    "print(find)"
   ]
  },
  {
   "cell_type": "code",
   "execution_count": 19,
   "metadata": {},
   "outputs": [
    {
     "name": "stdout",
     "output_type": "stream",
     "text": [
      "['n', 'n']\n"
     ]
    }
   ],
   "source": [
    "# 5. \"\\b\" - returns a match if the substring is present at the beginning or the end of the word in the string.\n",
    "\n",
    "string = \"python is an object oriented programming language @ 203453\"\n",
    "search = r'n\\b'\n",
    "find = re.findall(search,string)\n",
    "print(find)"
   ]
  },
  {
   "cell_type": "code",
   "execution_count": 21,
   "metadata": {},
   "outputs": [
    {
     "name": "stdout",
     "output_type": "stream",
     "text": [
      "[]\n"
     ]
    }
   ],
   "source": [
    "# 6. \"\\B\" - returns a match if the substring is present but not at the beginning or the end of the word in the string.\n",
    "\n",
    "string = \"python is an object oriented programming language @ 203453\"\n",
    "search = r'\\Bp'\n",
    "find = re.findall(search,string)\n",
    "print(find)"
   ]
  },
  {
   "cell_type": "code",
   "execution_count": 22,
   "metadata": {},
   "outputs": [
    {
     "name": "stdout",
     "output_type": "stream",
     "text": [
      "[' ', ' ', ' ', ' ', ' ', ' ', ' ', ' ']\n"
     ]
    }
   ],
   "source": [
    "# 7. \"\\s\" - returns a match if the character is whitespace.\n",
    "string = \"python is an object oriented programming language @ 203453\"\n",
    "search = '\\s'\n",
    "find = re.findall(search,string)\n",
    "print(find)"
   ]
  },
  {
   "cell_type": "code",
   "execution_count": 23,
   "metadata": {},
   "outputs": [
    {
     "name": "stdout",
     "output_type": "stream",
     "text": [
      "['p', 'y', 't', 'h', 'o', 'n', 'i', 's', 'a', 'n', 'o', 'b', 'j', 'e', 'c', 't', 'o', 'r', 'i', 'e', 'n', 't', 'e', 'd', 'p', 'r', 'o', 'g', 'r', 'a', 'm', 'm', 'i', 'n', 'g', 'l', 'a', 'n', 'g', 'u', 'a', 'g', 'e', '@', '2', '0', '3', '4', '5', '3']\n"
     ]
    }
   ],
   "source": [
    "# 7. \"\\S\" - returns a match if the character is not a whitespace.\n",
    "string = \"python is an object oriented programming language @ 203453\"\n",
    "search = '\\S'\n",
    "find = re.findall(search,string)\n",
    "print(find)"
   ]
  },
  {
   "cell_type": "code",
   "execution_count": 24,
   "metadata": {},
   "outputs": [
    {
     "name": "stdout",
     "output_type": "stream",
     "text": [
      "['p', 'y', 't', 'h', 'o', 'n', 'i', 's', 'a', 'n', 'o', 'b', 'j', 'e', 'c', 't', 'o', 'r', 'i', 'e', 'n', 't', 'e', 'd', 'p', 'r', 'o', 'g', 'r', 'a', 'm', 'm', 'i', 'n', 'g', 'l', 'a', 'n', 'g', 'u', 'a', 'g', 'e', '2', '0', '3', '4', '5', '3']\n"
     ]
    }
   ],
   "source": [
    "# 9. \"\\w\" - returns a match if the string contains any word character(alphabet,underscore,digit)\n",
    "\n",
    "string = \"python is an object oriented programming language @ 203453\"\n",
    "search = '\\w'\n",
    "find = re.findall(search,string)\n",
    "print(find)\n"
   ]
  },
  {
   "cell_type": "code",
   "execution_count": 25,
   "metadata": {},
   "outputs": [
    {
     "name": "stdout",
     "output_type": "stream",
     "text": [
      "[' ', ' ', ' ', ' ', ' ', ' ', ' ', '@', ' ']\n"
     ]
    }
   ],
   "source": [
    "# \"\\W\" - returns a match if the character is not any word character(alphabet,underscore,digit)\n",
    "string = \"python is an object oriented programming language @ 203453\"\n",
    "search = '\\W'\n",
    "find = re.findall(search,string)\n",
    "print(find)\n"
   ]
  },
  {
   "cell_type": "code",
   "execution_count": 28,
   "metadata": {},
   "outputs": [
    {
     "name": "stdout",
     "output_type": "stream",
     "text": [
      "[]\n",
      "Incorrect mobile number!!\n"
     ]
    }
   ],
   "source": [
    "# Write a program to check validity of a mobile number.  - 10 digits, first digit 6-9,rest of the digits 0-9\n",
    "mobile_number = input(\"Enter your mobile number : \")\n",
    "pattern = \"^[6789]\\d{9}$\"\n",
    "verify = re.findall(pattern, mobile_number)\n",
    "print(verify)\n",
    "if verify:\n",
    "    print(\"Mobile number verified!!!\")\n",
    "else:\n",
    "    print(\"Incorrect mobile number!!\")"
   ]
  },
  {
   "cell_type": "code",
   "execution_count": 32,
   "metadata": {},
   "outputs": [
    {
     "name": "stdout",
     "output_type": "stream",
     "text": [
      "[]\n",
      "Incorrect Pancard number!!\n"
     ]
    }
   ],
   "source": [
    "# Write a python program to check the validity of a pancard.\n",
    "# PANCARD = \"ABCDY1234D\"\n",
    "# VALID PATTERN : First 5 alphabets, next four digits and one alphabet at the end.\n",
    "pancard_number = input(\"Enter your Pancard number : \")\n",
    "pattern = \"^[A-Z]{5}\\d{4}[A-Z]$\"\n",
    "verify = re.findall(pattern, pancard_number)\n",
    "print(verify)\n",
    "if verify:\n",
    "    print(\"Pancard number verified!!!\")\n",
    "else:\n",
    "    print(\"Incorrect Pancard number!!\")\n"
   ]
  },
  {
   "cell_type": "code",
   "execution_count": 39,
   "metadata": {},
   "outputs": [
    {
     "name": "stdout",
     "output_type": "stream",
     "text": [
      "['abc123@gmail.com']\n",
      "email ID verified!!!\n"
     ]
    }
   ],
   "source": [
    "# write a program to check validity of emailid.\n",
    "email_id = input(\"Enter your Email ID : \")\n",
    "pattern = \"^\\w+[@][A-z]+[.][A-z]+$\"\n",
    "verify = re.findall(pattern, email_id)\n",
    "print(verify)\n",
    "if verify:\n",
    "    print(\"email ID verified!!!\")\n",
    "else:\n",
    "    print(\"Incorrect email ID!!\")"
   ]
  },
  {
   "cell_type": "markdown",
   "metadata": {},
   "source": [
    "# Write a program to check if the password user has entered is matching all the below criteria's :\n",
    "1. Atleast one uppercase character\n",
    "2. Atleast one lowercase character\n",
    "3. Minimum 8 characters long\n",
    "4. Atleast one special symbol\n",
    "5. Atleast one digit.\n"
   ]
  },
  {
   "cell_type": "code",
   "execution_count": 5,
   "metadata": {},
   "outputs": [
    {
     "name": "stdout",
     "output_type": "stream",
     "text": [
      "Valid password\n"
     ]
    }
   ],
   "source": [
    "password = input(\"Enter password : \")\n",
    "upper = False\n",
    "lower = False\n",
    "special_symbol = False\n",
    "digit = False\n",
    "\n",
    "for i in password:\n",
    "    if i.isupper():\n",
    "        upper = True\n",
    "    if i.isdigit():\n",
    "        digit = True\n",
    "    if i.islower():\n",
    "        lower = True\n",
    "    if i.isalnum() == False and i.isspace() == False:\n",
    "        special_symbol = True\n",
    "\n",
    "if upper == True and lower == True and digit == True and special_symbol == True and len(password) >= 8:\n",
    "    print(\"Valid password\")\n",
    "\n",
    "else:\n",
    "    print(\"Invalid password\")\n",
    "\n",
    "\n",
    "\n"
   ]
  },
  {
   "cell_type": "code",
   "execution_count": 10,
   "metadata": {},
   "outputs": [
    {
     "name": "stdout",
     "output_type": "stream",
     "text": [
      "None\n"
     ]
    }
   ],
   "source": [
    "import re\n",
    "password = input(\"Enter password\")\n",
    "pattern = \"(?=.*[A-Z])(?=.*[a-z])(?=.*[0-9])(?=.*/W)\"\n",
    "find = re.match(pattern,password)\n",
    "print(find)\n"
   ]
  },
  {
   "cell_type": "code",
   "execution_count": null,
   "metadata": {},
   "outputs": [],
   "source": []
  }
 ],
 "metadata": {
  "kernelspec": {
   "display_name": "Python 3",
   "language": "python",
   "name": "python3"
  },
  "language_info": {
   "codemirror_mode": {
    "name": "ipython",
    "version": 3
   },
   "file_extension": ".py",
   "mimetype": "text/x-python",
   "name": "python",
   "nbconvert_exporter": "python",
   "pygments_lexer": "ipython3",
   "version": "3.9.13"
  },
  "orig_nbformat": 4
 },
 "nbformat": 4,
 "nbformat_minor": 2
}
