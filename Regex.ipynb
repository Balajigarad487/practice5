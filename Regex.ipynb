{
 "cells": [
  {
   "cell_type": "markdown",
   "metadata": {},
   "source": [
    "Regular expressions : Regular expressions helps to find specific search patterns, it is a sequence of characters.\n",
    "\n",
    "For working with regular expression, we need to import a module named re module. \n"
   ]
  },
  {
   "cell_type": "code",
   "execution_count": 1,
   "metadata": {},
   "outputs": [],
   "source": [
    "import re"
   ]
  },
  {
   "cell_type": "markdown",
   "metadata": {},
   "source": [
    "# Functions in regular expressions : \n",
    "1. findall(search,string) - Returns a list containing all the matches.\n",
    "2. search(search,string) - Returns a match object.\n",
    "3. split(search,string) - Returns a list of substring, splits the string wherever it finds a match.\n",
    "4. sub(search,replace,string) - Replaces match string with given string."
   ]
  },
  {
   "cell_type": "code",
   "execution_count": 6,
   "metadata": {},
   "outputs": [
    {
     "name": "stdout",
     "output_type": "stream",
     "text": [
      "<re.Match object; span=(41, 49), match='language'>\n"
     ]
    }
   ],
   "source": [
    "string = \"Python is an object oriented programming language language\"\n",
    "search = 'object'\n",
    "find = re.search(search,string)\n",
    "print(find)"
   ]
  },
  {
   "cell_type": "code",
   "execution_count": 8,
   "metadata": {},
   "outputs": [
    {
     "name": "stdout",
     "output_type": "stream",
     "text": [
      "['language', 'language']\n"
     ]
    }
   ],
   "source": [
    "string = \"Python is an object oriented programming language language\"\n",
    "search = 'language'\n",
    "find = re.findall(search,string)\n",
    "print(find)"
   ]
  },
  {
   "cell_type": "code",
   "execution_count": 12,
   "metadata": {},
   "outputs": [
    {
     "name": "stdout",
     "output_type": "stream",
     "text": [
      "['Python', 'is', 'an', 'object oriented programming language']\n"
     ]
    }
   ],
   "source": [
    "string = \"Python is an object oriented programming language\"\n",
    "search = ' '\n",
    "find = re.split(search,string,3)\n",
    "print(find)"
   ]
  },
  {
   "cell_type": "code",
   "execution_count": 14,
   "metadata": {},
   "outputs": [
    {
     "data": {
      "text/plain": [
       "'Python_is_an_object oriented programming language'"
      ]
     },
     "execution_count": 14,
     "metadata": {},
     "output_type": "execute_result"
    }
   ],
   "source": [
    "string = \"Python is an object oriented programming language\"\n",
    "search = ' '\n",
    "re.sub(search,'_',string,3)"
   ]
  },
  {
   "cell_type": "markdown",
   "metadata": {},
   "source": [
    "# Metacharacters - this are the characters which has some meaning in python. \n",
    "1. \"[]\" - A set of characters, for e.g [a-z],[A-Z],[a-Z], [0-9]\n",
    "2.  \"\\\" - A special sequence for e.g \\d\n",
    "3. \".\" - Any character\n",
    "4. \"^\" - Starts with, It searches for the substring in the beginning of the string.\n",
    "5. \"$\" - ends with, It searches for the substring at the end of the string.\n",
    "6. \"*\" - Zero or more characters\n",
    "7. \"+\" - One or more characters.\n",
    "8. \"?\" - Zero or one characters.\n",
    "9. \"{}\" - exact number of characters.\n",
    "10. | - either or\n",
    "\n"
   ]
  },
  {
   "cell_type": "markdown",
   "metadata": {},
   "source": []
  },
  {
   "cell_type": "code",
   "execution_count": 15,
   "metadata": {},
   "outputs": [
    {
     "name": "stdout",
     "output_type": "stream",
     "text": [
      "['a', 'b', 'e', 'c', 'e', 'e', 'd', 'g', 'a', 'g', 'a', 'g', 'a', 'g', 'e', 'a', 'g', 'a', 'g', 'e']\n"
     ]
    }
   ],
   "source": [
    "# 1. \"[]\" - A set of characters, for e.g [a-z],[A-Z],[a-Z], [0-9]\n",
    "string = \"Python is an object oriented programming language language\"\n",
    "search = '[a-g]'\n",
    "find = re.findall(search,string)\n",
    "print(find)"
   ]
  },
  {
   "cell_type": "markdown",
   "metadata": {},
   "source": []
  },
  {
   "cell_type": "code",
   "execution_count": 17,
   "metadata": {},
   "outputs": [
    {
     "name": "stdout",
     "output_type": "stream",
     "text": [
      "['1', '1', '4', '5', '3', '6', '4', '7', '0', '0', '1', '2', '3']\n"
     ]
    }
   ],
   "source": [
    "# 2.  \"\\\" - A special sequence for e.g \\d - digits\n",
    "string = \"11453647Python is an object oriented programming language language00123\"\n",
    "search = '\\d'\n",
    "find = re.findall(search,string)\n",
    "print(find)"
   ]
  },
  {
   "cell_type": "code",
   "execution_count": 26,
   "metadata": {},
   "outputs": [
    {
     "name": "stdout",
     "output_type": "stream",
     "text": [
      "Match found\n"
     ]
    }
   ],
   "source": [
    "# 3. \".\" - Any character\n",
    "string = \"Python Python is an object oriented programming language language\"\n",
    "search = 'P..h.n'\n",
    "find = re.findall(search,string)\n",
    "if find:\n",
    "    print(\"Match found\")\n",
    "# print(find)"
   ]
  },
  {
   "cell_type": "code",
   "execution_count": 35,
   "metadata": {},
   "outputs": [
    {
     "name": "stdout",
     "output_type": "stream",
     "text": [
      "['Python is an']\n",
      "Match found\n"
     ]
    }
   ],
   "source": [
    "# 4. \"^\" - Starts with\n",
    "string = \"Python is an object oriented programming language language\"\n",
    "search = '^Python is an'\n",
    "find = re.findall(search,string)\n",
    "print(find)\n",
    "if find:\n",
    "    print(\"Match found\")\n",
    "\n"
   ]
  },
  {
   "cell_type": "code",
   "execution_count": 33,
   "metadata": {},
   "outputs": [
    {
     "name": "stdout",
     "output_type": "stream",
     "text": [
      "Match found\n",
      "['language']\n"
     ]
    }
   ],
   "source": [
    "# 5. \"$\" - ends with, It searches for the substring at the end of the string.\n",
    "string = \"Python is an object oriented programming language language\"\n",
    "search = 'langu...$'\n",
    "find = re.findall(search,string)\n",
    "if find:\n",
    "    print(\"Match found\")\n",
    "else:\n",
    "    print(\"Match not found\")\n",
    "\n",
    "print(find)\n"
   ]
  },
  {
   "cell_type": "code",
   "execution_count": 37,
   "metadata": {},
   "outputs": [
    {
     "name": "stdout",
     "output_type": "stream",
     "text": [
      "Match found\n",
      "['language language']\n"
     ]
    }
   ],
   "source": [
    "# 6. \"*\" - Zero or more characters.\n",
    "string = \"Python is an object oriented programming language language\"\n",
    "search = 'lang.*e'\n",
    "find = re.findall(search,string)\n",
    "if find:\n",
    "    print(\"Match found\")\n",
    "else:\n",
    "    print(\"Match not found\")\n",
    "\n",
    "print(find)\n"
   ]
  },
  {
   "cell_type": "code",
   "execution_count": 42,
   "metadata": {},
   "outputs": [
    {
     "name": "stdout",
     "output_type": "stream",
     "text": [
      "Match not found\n",
      "[]\n"
     ]
    }
   ],
   "source": [
    "# 7. \"+\" - One or more characters.\n",
    "\n",
    "string = \"Python is an object oriented programming language\"\n",
    "search = 'languag.+e'\n",
    "find = re.findall(search,string)\n",
    "if find:\n",
    "    print(\"Match found\")\n",
    "else:\n",
    "    print(\"Match not found\")\n",
    "\n",
    "print(find)"
   ]
  },
  {
   "cell_type": "code",
   "execution_count": 45,
   "metadata": {},
   "outputs": [
    {
     "name": "stdout",
     "output_type": "stream",
     "text": [
      "Match not found\n",
      "[]\n"
     ]
    }
   ],
   "source": [
    "#  8. \"?\" - Zero or one characters.\n",
    "\n",
    "string = \"Python is an object oriented programming language\"\n",
    "search = 'lang.?e'\n",
    "find = re.findall(search,string)\n",
    "if find:\n",
    "    print(\"Match found\")\n",
    "else:\n",
    "    print(\"Match not found\")\n",
    "\n",
    "print(find)"
   ]
  },
  {
   "cell_type": "code",
   "execution_count": 51,
   "metadata": {},
   "outputs": [
    {
     "name": "stdout",
     "output_type": "stream",
     "text": [
      "Match not found\n",
      "[]\n"
     ]
    }
   ],
   "source": [
    "# 9. \"{}\" - exact number of characters.\n",
    "\n",
    "string = \"Python is an object oriented programming language \"\n",
    "search = 'o.{4}t'\n",
    "find = re.findall(search,string)\n",
    "if find:\n",
    "    print(\"Match found\")\n",
    "else:\n",
    "    print(\"Match not found\")\n",
    "\n",
    "print(find)\n"
   ]
  },
  {
   "cell_type": "code",
   "execution_count": 55,
   "metadata": {},
   "outputs": [
    {
     "name": "stdout",
     "output_type": "stream",
     "text": [
      "Match found\n",
      "['object']\n"
     ]
    }
   ],
   "source": [
    "# 10. | - either or\n",
    "string = \"Python is an object oriented programming language\"\n",
    "search = 'object|interpreted'\n",
    "find = re.findall(search,string)\n",
    "if find:\n",
    "    print(\"Match found\")\n",
    "else:\n",
    "    print(\"Match not found\")\n",
    "\n",
    "print(find)\n"
   ]
  },
  {
   "cell_type": "markdown",
   "metadata": {},
   "source": [
    "# sets []\n",
    "1. [abcd] - returns a match whenever one of the specified character occurs in the string.\n",
    "2. [e-o] - returns a match whenever any character b/w the given range occurs.\n",
    "3. [^xyz] - returns a match whenever other than the specified character occurs in the string\n",
    "4. [2345] -returns a match whenever one of the specified digits occurs.\n",
    "5. [6-9] - returns a match whenever any digit b/w the given range occurs.\n",
    "6. [1234][0-9] - returns a match whenever any such two digit number is found"
   ]
  },
  {
   "cell_type": "code",
   "execution_count": 56,
   "metadata": {},
   "outputs": [
    {
     "name": "stdout",
     "output_type": "stream",
     "text": [
      "['o', 'i', 'a', 'o', 'e', 'o', 'i', 'e', 'e', 'o', 'a', 'i', 'a', 'u', 'a', 'e', 'a', 'u', 'a', 'e']\n"
     ]
    }
   ],
   "source": [
    "# 1. [abcd]\n",
    "string = \"Python is an object oriented programming language language\"\n",
    "search = '[aeiou]'\n",
    "find = re.findall(search,string)\n",
    "print(find)"
   ]
  },
  {
   "cell_type": "code",
   "execution_count": 59,
   "metadata": {},
   "outputs": [
    {
     "name": "stdout",
     "output_type": "stream",
     "text": [
      "[]\n"
     ]
    }
   ],
   "source": [
    "# 2. [e-o] - returns a match whenever any character b/w the given range occurs.\n",
    "string = \"Python is an object oriented programming language language\"\n",
    "search = '[E-I]'\n",
    "find = re.findall(search,string)\n",
    "print(find)"
   ]
  },
  {
   "cell_type": "code",
   "execution_count": 61,
   "metadata": {},
   "outputs": [
    {
     "name": "stdout",
     "output_type": "stream",
     "text": [
      "['P', 'y', 't', 'h', 'O', 'n', ' ', 's', ' ', 'n', ' ', 'b', 'j', 'c', 't', ' ', 'r', 'n', 't', 'd', ' ', 'p', 'r', 'g', 'r', 'm', 'm', 'n', 'g', ' ', 'l', 'n', 'g', 'g', ' ', 'l', 'n', 'g', 'g']\n"
     ]
    }
   ],
   "source": [
    "#  3. [^xyz] - returns a match whenever other than the specified character occurs in the string\n",
    "string = \"PythOn is an object oriented programming language language\"\n",
    "search = '[^aeiou]'\n",
    "find = re.findall(search,string)\n",
    "print(find)\n"
   ]
  },
  {
   "cell_type": "code",
   "execution_count": 63,
   "metadata": {},
   "outputs": [
    {
     "name": "stdout",
     "output_type": "stream",
     "text": [
      "['0', '0', ' ', 'P', 'y', 't', 'h', 'o', 'n', ' ', 'i', 's', ' ', 'a', 'n', ' ', 'o', 'b', 'j', 'e', 'c', 't', ' ', 'o', 'r', 'i', 'e', 'n', 't', 'e', 'd', ' ', 'p', 'r', 'o', 'g', 'r', 'a', 'm', 'm', 'i', 'n', 'g', ' ', 'l', 'a', 'n', 'g', 'u', 'a', 'g', 'e', ' ', '@', ' ', '0', '4', '5']\n"
     ]
    }
   ],
   "source": [
    "\n",
    "# 4. [2345] -returns a match whenever one of the specified digits occurs.\n",
    "string = \"001 Python is an object oriented programming language @ 203453\"\n",
    "search = '[123]'\n",
    "find = re.findall(search,string)\n",
    "print(find)\n"
   ]
  },
  {
   "cell_type": "code",
   "execution_count": 65,
   "metadata": {},
   "outputs": [
    {
     "name": "stdout",
     "output_type": "stream",
     "text": [
      "['0', '0', '1', '2', '0', '3', '4', '3']\n"
     ]
    }
   ],
   "source": [
    "# 5. [6-9] - returns a match whenever any digit b/w the given range occurs.\n",
    "string = \"001 Python is an object oriented programming language @ 203453\"\n",
    "search = '[0-4]'\n",
    "find = re.findall(search,string)\n",
    "print(find)\n"
   ]
  },
  {
   "cell_type": "code",
   "execution_count": 67,
   "metadata": {},
   "outputs": [
    {
     "name": "stdout",
     "output_type": "stream",
     "text": [
      "['20', '34', '53']\n"
     ]
    }
   ],
   "source": [
    "# 6. [1234][0-9] - returns a match whenever any such two digit number is found\n",
    "string = \"001 Python is an object oriented programming language @ 203453\"\n",
    "search = '[1235][0-9]'\n",
    "find = re.findall(search,string)\n",
    "print(find)\n"
   ]
  }
 ],
 "metadata": {
  "kernelspec": {
   "display_name": "Python 3",
   "language": "python",
   "name": "python3"
  },
  "language_info": {
   "codemirror_mode": {
    "name": "ipython",
    "version": 3
   },
   "file_extension": ".py",
   "mimetype": "text/x-python",
   "name": "python",
   "nbconvert_exporter": "python",
   "pygments_lexer": "ipython3",
   "version": "3.9.13"
  },
  "orig_nbformat": 4
 },
 "nbformat": 4,
 "nbformat_minor": 2
}
