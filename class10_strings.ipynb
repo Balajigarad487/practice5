{
 "cells": [
  {
   "cell_type": "code",
   "execution_count": 8,
   "metadata": {},
   "outputs": [
    {
     "name": "stdout",
     "output_type": "stream",
     "text": [
      " in string\n"
     ]
    }
   ],
   "source": [
    "# slicing :\n",
    "\n",
    "string1 = \"slicing in string\"\n",
    "string2 = string1[5:10]\n",
    "\n",
    "# print(string1[-10:-1])\n",
    "# print(string1[::-1])\n",
    "\n",
    "print(string1[7:])\n",
    "\n"
   ]
  },
  {
   "cell_type": "code",
   "execution_count": null,
   "metadata": {},
   "outputs": [],
   "source": [
    "# inbuilt methods of string\n"
   ]
  },
  {
   "cell_type": "code",
   "execution_count": 16,
   "metadata": {},
   "outputs": [
    {
     "name": "stdout",
     "output_type": "stream",
     "text": [
      "PYTHON STRINGS\n"
     ]
    }
   ],
   "source": [
    "# upper() - the upper method converts the string in upper case.\n",
    "string = \"PythOn StringS\"\n",
    "uppercase = string.upper()\n",
    "print(uppercase)"
   ]
  },
  {
   "cell_type": "code",
   "execution_count": 14,
   "metadata": {},
   "outputs": [
    {
     "data": {
      "text/plain": [
       "'python strings'"
      ]
     },
     "execution_count": 14,
     "metadata": {},
     "output_type": "execute_result"
    }
   ],
   "source": [
    "# lower() -  the lower method converts the string in lower case.\n",
    "uppercase.lower()"
   ]
  },
  {
   "cell_type": "code",
   "execution_count": 17,
   "metadata": {},
   "outputs": [
    {
     "data": {
      "text/plain": [
       "'Python Strings'"
      ]
     },
     "execution_count": 17,
     "metadata": {},
     "output_type": "execute_result"
    }
   ],
   "source": [
    "# title() - makes the first character of every word capitalized\n",
    "string.title()"
   ]
  },
  {
   "cell_type": "code",
   "execution_count": 18,
   "metadata": {},
   "outputs": [
    {
     "data": {
      "text/plain": [
       "'Python strings'"
      ]
     },
     "execution_count": 18,
     "metadata": {},
     "output_type": "execute_result"
    }
   ],
   "source": [
    "# capitalize() - makes the first character of string in uppercase and rest of the characters in lowercase.\n",
    "string.capitalize()"
   ]
  },
  {
   "cell_type": "code",
   "execution_count": 20,
   "metadata": {},
   "outputs": [
    {
     "name": "stdout",
     "output_type": "stream",
     "text": [
      "python strings\n"
     ]
    }
   ],
   "source": [
    "# casefold() : converts the string in lowercase.\n",
    "case_fold = string.casefold()\n",
    "print(case_fold)"
   ]
  },
  {
   "cell_type": "code",
   "execution_count": 21,
   "metadata": {},
   "outputs": [
    {
     "name": "stdout",
     "output_type": "stream",
     "text": [
      "python strings\n"
     ]
    }
   ],
   "source": [
    "lower_case = string.lower()\n",
    "print(lower_case)"
   ]
  },
  {
   "cell_type": "code",
   "execution_count": 25,
   "metadata": {},
   "outputs": [
    {
     "data": {
      "text/plain": [
       "True"
      ]
     },
     "execution_count": 25,
     "metadata": {},
     "output_type": "execute_result"
    }
   ],
   "source": [
    "# isupper() - returns true if all the characters in string are in uppercase else returns False.as_integer_ratio\n",
    "lower_case.isupper()\n",
    "\n",
    "# islower() - returns true if all the characters in string are in lowercase else returns False.as_integer_ratio\n",
    "lower_case.islower()"
   ]
  },
  {
   "cell_type": "code",
   "execution_count": 23,
   "metadata": {},
   "outputs": [
    {
     "name": "stdout",
     "output_type": "stream",
     "text": [
      "PythOn StringS\n"
     ]
    }
   ],
   "source": [
    "print(string)"
   ]
  },
  {
   "cell_type": "code",
   "execution_count": 29,
   "metadata": {},
   "outputs": [
    {
     "name": "stdout",
     "output_type": "stream",
     "text": [
      "          Python programming               \n"
     ]
    },
    {
     "data": {
      "text/plain": [
       "'Python programming'"
      ]
     },
     "execution_count": 29,
     "metadata": {},
     "output_type": "execute_result"
    }
   ],
   "source": [
    "# strip() - removes whitespaces from beginning and end of the string,\n",
    "string1 = \"          Python programming               \"\n",
    "print(string1)\n",
    "string1.strip()              \n"
   ]
  },
  {
   "cell_type": "code",
   "execution_count": 32,
   "metadata": {},
   "outputs": [
    {
     "data": {
      "text/plain": [
       "'          Python programming'"
      ]
     },
     "execution_count": 32,
     "metadata": {},
     "output_type": "execute_result"
    }
   ],
   "source": [
    "string1 = string1.lstrip()     #removed whitespaces from the left part of the string.capitalize\n",
    "string1.rstrip()               #removed whitespaces from the right part of the string.capitalize"
   ]
  },
  {
   "cell_type": "code",
   "execution_count": 40,
   "metadata": {},
   "outputs": [
    {
     "data": {
      "text/plain": [
       "'Java programming'"
      ]
     },
     "execution_count": 40,
     "metadata": {},
     "output_type": "execute_result"
    }
   ],
   "source": [
    "# replace() - this method is used for replacing values from the string\n",
    "string1 = \"Python programming\"\n",
    "string1.replace('Python','Java')\n",
    "string1.replace('programming', 'language')"
   ]
  },
  {
   "cell_type": "code",
   "execution_count": 38,
   "metadata": {},
   "outputs": [
    {
     "name": "stdout",
     "output_type": "stream",
     "text": [
      "we are trying for concetanating - multiple strings\n"
     ]
    }
   ],
   "source": [
    "# concetanation of string :\n",
    "string1 = \"we are\"\n",
    "string2 = \"concetanating\"\n",
    "string3 = \"multiple strings\"\n",
    "concetanation = string1+\" \" + string2+ \" - \" +string3"
   ]
  },
  {
   "cell_type": "code",
   "execution_count": 50,
   "metadata": {},
   "outputs": [
    {
     "name": "stdout",
     "output_type": "stream",
     "text": [
      "Ram scored 80 marks in English\n",
      "Ram scored 80 marks in English\n",
      "Ram scored 80 marks in English\n"
     ]
    }
   ],
   "source": [
    "# Format : \n",
    "\n",
    "marks = \"80\"\n",
    "subject = \"English\"\n",
    "student = \"Ram scored \" + marks + \" marks\"\n",
    "# print(student)\n",
    "student_score = \"Ram scored {} marks in {}\".format(marks,subject)\n",
    "print(student_score)\n",
    "student_score = \"Ram scored {1} marks in {0}\".format(subject,marks)\n",
    "print(student_score)\n",
    "student_score = f\"Ram scored {marks} marks in {subject}\"\n",
    "print(student_score)\n"
   ]
  },
  {
   "cell_type": "code",
   "execution_count": 57,
   "metadata": {},
   "outputs": [
    {
     "data": {
      "text/plain": [
       "False"
      ]
     },
     "execution_count": 57,
     "metadata": {},
     "output_type": "execute_result"
    }
   ],
   "source": [
    "# startswith() - returns True if the string is starting with provided substring else returns False.\n",
    "string = \"Methods of string datatype\"\n",
    "string.startswith('Methods of')"
   ]
  },
  {
   "cell_type": "code",
   "execution_count": 62,
   "metadata": {},
   "outputs": [
    {
     "data": {
      "text/plain": [
       "True"
      ]
     },
     "execution_count": 62,
     "metadata": {},
     "output_type": "execute_result"
    }
   ],
   "source": [
    "# endswith() - returns True if the string is ending with provided substring else returns False.\n",
    "string = \"Methods of string datatype\"\n",
    "string.endswith('ype')\n"
   ]
  },
  {
   "cell_type": "code",
   "execution_count": 67,
   "metadata": {},
   "outputs": [
    {
     "data": {
      "text/plain": [
       "6"
      ]
     },
     "execution_count": 67,
     "metadata": {},
     "output_type": "execute_result"
    }
   ],
   "source": [
    "# find - searches for a given character and if it is found so returns its index value for the first occurence.\n",
    "string = \"Methods of string datatypes\"\n",
    "string.find('s')"
   ]
  },
  {
   "cell_type": "markdown",
   "metadata": {},
   "source": []
  },
  {
   "cell_type": "code",
   "execution_count": 73,
   "metadata": {},
   "outputs": [
    {
     "data": {
      "text/plain": [
       "True"
      ]
     },
     "execution_count": 73,
     "metadata": {},
     "output_type": "execute_result"
    }
   ],
   "source": [
    "# isalpha() - returns True if all the characters of string are alphabets else returns False\n",
    "\n",
    "string1 = \"checkinG\"\n",
    "string1.isalpha()"
   ]
  },
  {
   "cell_type": "code",
   "execution_count": 75,
   "metadata": {},
   "outputs": [
    {
     "data": {
      "text/plain": [
       "True"
      ]
     },
     "execution_count": 75,
     "metadata": {},
     "output_type": "execute_result"
    }
   ],
   "source": [
    "# isdigit() - returns True if all the characters of string are digit else returns False\n",
    "\n",
    "string1 = \"124345\"\n",
    "string1.isdigit()"
   ]
  },
  {
   "cell_type": "code",
   "execution_count": 82,
   "metadata": {},
   "outputs": [
    {
     "data": {
      "text/plain": [
       "True"
      ]
     },
     "execution_count": 82,
     "metadata": {},
     "output_type": "execute_result"
    }
   ],
   "source": [
    "# isalnum() - \n",
    "string1 = \"string123454\"\n",
    "string1.isalnum()"
   ]
  },
  {
   "cell_type": "code",
   "execution_count": 92,
   "metadata": {},
   "outputs": [
    {
     "data": {
      "text/plain": [
       "False"
      ]
     },
     "execution_count": 92,
     "metadata": {},
     "output_type": "execute_result"
    }
   ],
   "source": [
    "# isspace() - It returns True if the string has only whitespaces.\n",
    "string1 = \"strings\"\n",
    "string1.isspace()"
   ]
  },
  {
   "cell_type": "code",
   "execution_count": 91,
   "metadata": {},
   "outputs": [
    {
     "data": {
      "text/plain": [
       "'fruit salad'"
      ]
     },
     "execution_count": 91,
     "metadata": {},
     "output_type": "execute_result"
    }
   ],
   "source": [
    "# join()\n",
    "\n",
    "lst = [\"fruit\",\"salad\"]\n",
    "\" \".join(lst)"
   ]
  },
  {
   "cell_type": "code",
   "execution_count": 96,
   "metadata": {},
   "outputs": [
    {
     "data": {
      "text/plain": [
       "'**strings***'"
      ]
     },
     "execution_count": 96,
     "metadata": {},
     "output_type": "execute_result"
    }
   ],
   "source": [
    "# center() - it centers the string based on the given character\n",
    "string1.center(12,\"*\")"
   ]
  },
  {
   "cell_type": "code",
   "execution_count": 99,
   "metadata": {},
   "outputs": [
    {
     "data": {
      "text/plain": [
       "2"
      ]
     },
     "execution_count": 99,
     "metadata": {},
     "output_type": "execute_result"
    }
   ],
   "source": [
    "# count() - returns the count of substring in the given string.\n",
    "string1.count('s')"
   ]
  },
  {
   "cell_type": "code",
   "execution_count": 106,
   "metadata": {},
   "outputs": [
    {
     "data": {
      "text/plain": [
       "['split', 'method', 'splits', 'the string and returns a lst']"
      ]
     },
     "execution_count": 106,
     "metadata": {},
     "output_type": "execute_result"
    }
   ],
   "source": [
    "string = \"split_method_splits_the string and returns a lst\"\n",
    "string.split(\"_\")\n"
   ]
  }
 ],
 "metadata": {
  "kernelspec": {
   "display_name": "Python 3",
   "language": "python",
   "name": "python3"
  },
  "language_info": {
   "codemirror_mode": {
    "name": "ipython",
    "version": 3
   },
   "file_extension": ".py",
   "mimetype": "text/x-python",
   "name": "python",
   "nbconvert_exporter": "python",
   "pygments_lexer": "ipython3",
   "version": "3.9.13"
  },
  "orig_nbformat": 4
 },
 "nbformat": 4,
 "nbformat_minor": 2
}
