{
 "cells": [
  {
   "cell_type": "markdown",
   "metadata": {},
   "source": []
  },
  {
   "cell_type": "markdown",
   "metadata": {},
   "source": [
    "Procedural programming\n",
    "functional programming\n",
    "object oriented programming (Advance Python)"
   ]
  },
  {
   "cell_type": "markdown",
   "metadata": {},
   "source": [
    "DRY - Do not repeat yourself.\n",
    "Functiontional programming : functional programming includes using functions to avoid\n",
    "repeatation of same block of code.\n",
    "what is a Functions : A function is a block of code for performing a specific task.\n",
    "-- It is used to define something that we can use several times later.\n",
    "-- It makes our code reusable and avoids repetition."
   ]
  },
  {
   "cell_type": "code",
   "execution_count": null,
   "metadata": {},
   "outputs": [],
   "source": [
    "# procedural programming : \n",
    "x = int(input())\n",
    "y = int(input())\n",
    "print(x+y)"
   ]
  },
  {
   "cell_type": "markdown",
   "metadata": {},
   "source": [
    "How do we define a function : \n",
    "syntax :  Keyword def is used to define a function followed by the function name and parathesis. In the paranthesis we can give arguments, and then it is followed by colon. after indentation we write the block of code in the body of function."
   ]
  },
  {
   "cell_type": "code",
   "execution_count": 3,
   "metadata": {},
   "outputs": [
    {
     "name": "stdout",
     "output_type": "stream",
     "text": [
      "15\n",
      "29\n",
      "300\n"
     ]
    }
   ],
   "source": [
    "def add():\n",
    "    x = int(input(\"Enter first number : \"))\n",
    "    y = int(input(\"Enter second number : \"))\n",
    "    print(x+y)\n",
    "    return \n",
    "\n",
    "abc = add()\n",
    "add()\n",
    "add()    "
   ]
  },
  {
   "cell_type": "code",
   "execution_count": 21,
   "metadata": {},
   "outputs": [
    {
     "ename": "TypeError",
     "evalue": "add() got an unexpected keyword argument 'z'",
     "output_type": "error",
     "traceback": [
      "\u001b[1;31m---------------------------------------------------------------------------\u001b[0m",
      "\u001b[1;31mTypeError\u001b[0m                                 Traceback (most recent call last)",
      "\u001b[1;32m~\\AppData\\Local\\Temp\\ipykernel_1180\\3911706548.py\u001b[0m in \u001b[0;36m<module>\u001b[1;34m\u001b[0m\n\u001b[0;32m      6\u001b[0m     \u001b[1;32mreturn\u001b[0m \u001b[0mc\u001b[0m\u001b[1;33m\u001b[0m\u001b[1;33m\u001b[0m\u001b[0m\n\u001b[0;32m      7\u001b[0m \u001b[1;33m\u001b[0m\u001b[0m\n\u001b[1;32m----> 8\u001b[1;33m \u001b[0mAddition\u001b[0m \u001b[1;33m=\u001b[0m \u001b[0madd\u001b[0m\u001b[1;33m(\u001b[0m\u001b[0mz\u001b[0m \u001b[1;33m=\u001b[0m \u001b[1;36m100\u001b[0m\u001b[1;33m,\u001b[0m\u001b[0mx\u001b[0m \u001b[1;33m=\u001b[0m \u001b[1;36m200\u001b[0m\u001b[1;33m)\u001b[0m\u001b[1;33m\u001b[0m\u001b[1;33m\u001b[0m\u001b[0m\n\u001b[0m\u001b[0;32m      9\u001b[0m \u001b[0mprint\u001b[0m\u001b[1;33m(\u001b[0m\u001b[0mAddition\u001b[0m\u001b[1;33m+\u001b[0m\u001b[1;36m100\u001b[0m\u001b[1;33m)\u001b[0m\u001b[1;33m\u001b[0m\u001b[1;33m\u001b[0m\u001b[0m\n",
      "\u001b[1;31mTypeError\u001b[0m: add() got an unexpected keyword argument 'z'"
     ]
    }
   ],
   "source": [
    "# function with arguments and return statement: \n",
    "def add(x,y):\n",
    "    c = x+y\n",
    "    print(x)\n",
    "    print(y)\n",
    "    return c\n",
    "\n",
    "Addition = add(y = 100,x = 200)\n",
    "print(Addition+100)\n"
   ]
  },
  {
   "cell_type": "code",
   "execution_count": 5,
   "metadata": {},
   "outputs": [
    {
     "name": "stdout",
     "output_type": "stream",
     "text": [
      "Hi xyz, your batch abc120223 will start soon\n"
     ]
    }
   ],
   "source": [
    "def student(name,batch):\n",
    "    print(f\"Hi {name}, your batch {batch} will start soon\")\n",
    "\n",
    "student(\"xyz\",\"abc120223\")\n"
   ]
  },
  {
   "cell_type": "code",
   "execution_count": 20,
   "metadata": {},
   "outputs": [
    {
     "ename": "TypeError",
     "evalue": "table() takes from 0 to 1 positional arguments but 5 were given",
     "output_type": "error",
     "traceback": [
      "\u001b[1;31m---------------------------------------------------------------------------\u001b[0m",
      "\u001b[1;31mTypeError\u001b[0m                                 Traceback (most recent call last)",
      "\u001b[1;32m~\\AppData\\Local\\Temp\\ipykernel_1180\\4028756274.py\u001b[0m in \u001b[0;36m<module>\u001b[1;34m\u001b[0m\n\u001b[0;32m      7\u001b[0m     \u001b[0mprint\u001b[0m\u001b[1;33m(\u001b[0m\u001b[1;34m\"------------------------------------------------\"\u001b[0m\u001b[1;33m)\u001b[0m\u001b[1;33m\u001b[0m\u001b[1;33m\u001b[0m\u001b[0m\n\u001b[0;32m      8\u001b[0m \u001b[1;33m\u001b[0m\u001b[0m\n\u001b[1;32m----> 9\u001b[1;33m \u001b[0mtable\u001b[0m\u001b[1;33m(\u001b[0m\u001b[1;36m10\u001b[0m\u001b[1;33m,\u001b[0m\u001b[1;36m20\u001b[0m\u001b[1;33m,\u001b[0m\u001b[1;36m30\u001b[0m\u001b[1;33m,\u001b[0m\u001b[1;36m8\u001b[0m\u001b[1;33m,\u001b[0m\u001b[1;36m6\u001b[0m\u001b[1;33m)\u001b[0m\u001b[1;33m\u001b[0m\u001b[1;33m\u001b[0m\u001b[0m\n\u001b[0m\u001b[0;32m     10\u001b[0m \u001b[0mtable\u001b[0m\u001b[1;33m(\u001b[0m\u001b[1;33m)\u001b[0m\u001b[1;33m\u001b[0m\u001b[1;33m\u001b[0m\u001b[0m\n\u001b[0;32m     11\u001b[0m \u001b[1;33m\u001b[0m\u001b[0m\n",
      "\u001b[1;31mTypeError\u001b[0m: table() takes from 0 to 1 positional arguments but 5 were given"
     ]
    }
   ],
   "source": [
    "# write a program using functions to print table of any number.\n",
    "\n",
    "def table(number = 5):\n",
    "    for i in range(1,11):\n",
    "        multiply = number*i\n",
    "        print(f\"{number}*{i} = {multiply}\")\n",
    "    print(\"------------------------------------------------\")\n",
    "\n",
    "table(10)\n",
    "table()\n",
    "    "
   ]
  },
  {
   "cell_type": "code",
   "execution_count": null,
   "metadata": {},
   "outputs": [],
   "source": [
    "# return and print()\n",
    "return - It is the last statement of a function to get executed, after return the execution gets back\n",
    "to place from where function was called. It can contain any value or expression to return. If there is no\n",
    "extression or value so None value is returned.\n",
    "\n",
    "print() - It is a function which is used to display some output on the terminal, it does not return\n",
    "anything."
   ]
  },
  {
   "cell_type": "code",
   "execution_count": null,
   "metadata": {},
   "outputs": [],
   "source": [
    "Types of functions : \n",
    "1. Inbuit functions : These are the functions that are present in python library, we donot have\n",
    " to define them, we can simply call and use them. e.g print(), input(), pop()\n",
    "\n",
    "2. User defined functions : These are functions defined by the user to perform some specific task.\n",
    "e.g. table()"
   ]
  },
  {
   "cell_type": "code",
   "execution_count": null,
   "metadata": {},
   "outputs": [],
   "source": [
    "Types of arguments :\n",
    "1.Positional Argument -  The arguments whose position are fixed are known as\n",
    "positional arguments.\n",
    "2.Default argument - when we assign some values to arguments using = operator, then it is called\n",
    "default argument.\n",
    "3.Keyword argument - when we assign some values to our variables by their names then it is called as\n",
    "keyword argument.\n",
    "4. Arbitrary arguments (args*) - when we dont know in advance that how many arguments will be passed to function when we\n",
    "call it then we use arbitrary arguments at such situations.\n",
    "5. Arbitrary Keyword arguments (kwargs**)  - when we dont know in advance than how many keyword arguments will be\n",
    "passed so we use arbitrary keyword arguments.\n",
    "\n",
    "                "
   ]
  },
  {
   "cell_type": "code",
   "execution_count": 24,
   "metadata": {},
   "outputs": [
    {
     "name": "stdout",
     "output_type": "stream",
     "text": [
      "{'student': {'Name': 'Ram', 'Qualification': 'B.tech', 'Age': 22, 'Course': 'Data science'}}\n"
     ]
    }
   ],
   "source": [
    "def student_info(**info):\n",
    "    print(info)\n",
    "\n",
    "# student_info(Name = \"Ram\", Qualification = \"B.tech\", Age = 22, Course = \"Data science\")\n",
    "dict1 = {'Name': 'Ram', 'Qualification': 'B.tech', 'Age': 22, 'Course': 'Data science'}\n",
    "student_info(student = dict1)"
   ]
  },
  {
   "cell_type": "code",
   "execution_count": 19,
   "metadata": {},
   "outputs": [
    {
     "name": "stdout",
     "output_type": "stream",
     "text": [
      "('abc', 'def', 'ghi', 'xyz', 'uvw')\n"
     ]
    }
   ],
   "source": [
    "# args*\n",
    "def students(*names):\n",
    "    print(names)\n",
    "\n",
    "students(\"abc\",\"def\",\"ghi\",\"xyz\",\"uvw\")\n"
   ]
  },
  {
   "cell_type": "code",
   "execution_count": null,
   "metadata": {},
   "outputs": [],
   "source": [
    "Write a program using function to check if number is divisible by 7 and 5. use the concept of \n",
    "default arguments. \n"
   ]
  }
 ],
 "metadata": {
  "kernelspec": {
   "display_name": "Python 3",
   "language": "python",
   "name": "python3"
  },
  "language_info": {
   "codemirror_mode": {
    "name": "ipython",
    "version": 3
   },
   "file_extension": ".py",
   "mimetype": "text/x-python",
   "name": "python",
   "nbconvert_exporter": "python",
   "pygments_lexer": "ipython3",
   "version": "3.9.13"
  },
  "orig_nbformat": 4
 },
 "nbformat": 4,
 "nbformat_minor": 2
}
