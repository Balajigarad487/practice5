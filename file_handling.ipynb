{
 "cells": [
  {
   "cell_type": "markdown",
   "metadata": {},
   "source": [
    "File handling : File handling is used to store the data permanently in our system, A file is a named location in memory or disk for storing the data. \n",
    "-- > Modes of files :\n",
    "1. text mode\n",
    "2. Binary mode"
   ]
  },
  {
   "cell_type": "markdown",
   "metadata": {},
   "source": [
    "# Operations performed in a file :\n",
    "1. create - create a file\n",
    "2. open - open a file\n",
    "3. read/ write - performing operations\n",
    "4. close - close a file.\n"
   ]
  },
  {
   "cell_type": "markdown",
   "metadata": {},
   "source": [
    " # Opening a file : \n",
    "  file = open(\"filename\", 'x')"
   ]
  },
  {
   "cell_type": "markdown",
   "metadata": {},
   "source": [
    "# There are four modes mainly :\n",
    "# for text files : \n",
    "1. ('x') - This mode is used for creating a new file\n",
    "2. ('r') - This mode is used for opening the file in read mode, and the position of cursor is at the beginning.\n",
    "3. ('w') - This mode is used for opening the file in write mode, the position of cursor is at beginning. If the file does not exists, so it creates a new file.\n",
    "4. ('a') - This mode is used for appending the data to file, here the position of cursor is at the end. If the file does not exists it creates a new file.\n",
    "5. ('r+') - In this mode we can read and write to the file. It overrides the existing file. Initially the position of cursor is at the beginning, once we write something, the position of cursor is changed to the last letter written. \n",
    "6. ('w+') - In this mode we can do both read/write operations.\n",
    "7. ('a+') - In this mode we can do both append and read operations. the position of cursor is at the end.\n"
   ]
  },
  {
   "cell_type": "markdown",
   "metadata": {},
   "source": [
    "# for binary files : \n",
    "1. ('xb') - This mode is used for creating a new file\n",
    "2. ('rb') - This mode is used for opening the file in read mode, and the position of cursor is at the beginning.\n",
    "3. ('wb') - This mode is used for opening the file in write mode, the position of cursor is at beginning. If the file does not exists, so it creates a new file.\n",
    "4. ('ab') - This mode is used for appending the data to file, here the position of cursor is at the end. If the file does not exists it creates a new file."
   ]
  },
  {
   "cell_type": "code",
   "execution_count": null,
   "metadata": {},
   "outputs": [],
   "source": []
  },
  {
   "cell_type": "code",
   "execution_count": 18,
   "metadata": {},
   "outputs": [
    {
     "data": {
      "text/plain": [
       "5"
      ]
     },
     "execution_count": 18,
     "metadata": {},
     "output_type": "execute_result"
    }
   ],
   "source": [
    "Name = input(\"Enter your Name :\")\n",
    "file = open(\"user_name.txt\",'w')\n",
    "file.write(Name)"
   ]
  },
  {
   "cell_type": "code",
   "execution_count": 3,
   "metadata": {},
   "outputs": [],
   "source": [
    "#  ('x') - This mode is used for creating a new file\n",
    "file = open(\"sample2.txt\",'x')\n"
   ]
  },
  {
   "cell_type": "code",
   "execution_count": 6,
   "metadata": {},
   "outputs": [
    {
     "name": "stdout",
     "output_type": "stream",
     "text": [
      "We are learning file handling.\n"
     ]
    }
   ],
   "source": [
    "# read mode ('r')\n",
    "file = open(\"sample.txt\",'r')\n",
    "data = file.read()\n",
    "print(data)\n"
   ]
  },
  {
   "cell_type": "code",
   "execution_count": 12,
   "metadata": {},
   "outputs": [],
   "source": [
    "# write mode ('w')\n",
    "file = open(\"new.txt\",'w')\n",
    "file.write(\"We have opened the file in write mode\")\n",
    "file.close()"
   ]
  },
  {
   "cell_type": "code",
   "execution_count": 16,
   "metadata": {},
   "outputs": [],
   "source": [
    "# Append mode ('a')\n",
    "file = open(\"new2.txt\",'a')\n",
    "file.write(\". appending some more data in our file\")\n",
    "file.close()"
   ]
  },
  {
   "cell_type": "code",
   "execution_count": 23,
   "metadata": {},
   "outputs": [],
   "source": [
    "# read+ mode ('r+')\n",
    "file = open(\"sample.txt\",'r+')\n",
    "file.write(\"We have opened the file in read plus mode\")\n",
    "file.close()"
   ]
  },
  {
   "cell_type": "code",
   "execution_count": 22,
   "metadata": {},
   "outputs": [],
   "source": [
    "# read+ mode ('w+')\n",
    "file = open(\"sample.txt\",'w+')\n",
    "file.write(\"We have opened the file in write plus mode\")\n",
    "file.write(\"adding some more data\")\n",
    "file.close()"
   ]
  },
  {
   "cell_type": "code",
   "execution_count": 38,
   "metadata": {},
   "outputs": [
    {
     "name": "stdout",
     "output_type": "stream",
     "text": [
      "25\n",
      "0\n",
      "How are you doing today!!\n"
     ]
    }
   ],
   "source": [
    "# append+ mode (a+)\n",
    "file = open(\"sample.txt\",'w+')\n",
    "file.write(\"How are you doing today!!\")\n",
    "print(file.tell())\n",
    "file.seek(0)\n",
    "data = file.read()\n",
    "file.seek(0)\n",
    "print(file.tell())\n",
    "print(data)\n",
    "file.close()"
   ]
  },
  {
   "cell_type": "markdown",
   "metadata": {},
   "source": [
    "Write a program to take input of Basic details such as name, age, address, contact number etc \n",
    "from the user and store it in a file permanently, you can also use a dictionary for storing this info, where key will be the field like name, address and value will be the information given by the user. and then store it in a file. "
   ]
  }
 ],
 "metadata": {
  "kernelspec": {
   "display_name": "Python 3",
   "language": "python",
   "name": "python3"
  },
  "language_info": {
   "codemirror_mode": {
    "name": "ipython",
    "version": 3
   },
   "file_extension": ".py",
   "mimetype": "text/x-python",
   "name": "python",
   "nbconvert_exporter": "python",
   "pygments_lexer": "ipython3",
   "version": "3.9.13"
  },
  "orig_nbformat": 4
 },
 "nbformat": 4,
 "nbformat_minor": 2
}
