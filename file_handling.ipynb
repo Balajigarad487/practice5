{
 "cells": [
  {
   "cell_type": "markdown",
   "metadata": {},
   "source": [
    "File handling : File handling is used to store the data permanently in our system, A file is a named location in memory or disk for storing the data. \n",
    "-- > Modes of files :\n",
    "1. text mode\n",
    "2. Binary mode"
   ]
  },
  {
   "cell_type": "markdown",
   "metadata": {},
   "source": [
    "# Operations performed in a file :\n",
    "1. create - create a file\n",
    "2. open - open a file\n",
    "3. read/ write - performing operations\n",
    "4. close - close a file.\n"
   ]
  },
  {
   "cell_type": "markdown",
   "metadata": {},
   "source": [
    " # Opening a file : \n",
    "  file = open(\"filename\", 'x')"
   ]
  },
  {
   "cell_type": "markdown",
   "metadata": {},
   "source": [
    "# There are four modes mainly :\n",
    "# for text files : \n",
    "1. ('x') - This mode is used for creating a new file\n",
    "2. ('r') - This mode is used for opening the file in read mode, and the position of cursor is at the beginning.\n",
    "3. ('w') - This mode is used for opening the file in write mode, the position of cursor is at beginning. If the file does not exists, so it creates a new file.\n",
    "4. ('a') - This mode is used for appending the data to file, here the position of cursor is at the end. If the file does not exists it creates a new file.\n",
    "5. ('r+') - In this mode we can read and write to the file. It overrides the existing file. Initially the position of cursor is at the beginning, once we write something, the position of cursor is changed to the last letter written. \n",
    "6. ('w+') - In this mode we can do both read/write operations.\n",
    "7. ('a+') - In this mode we can do both append and read operations. the position of cursor is at the end.\n"
   ]
  },
  {
   "cell_type": "markdown",
   "metadata": {},
   "source": [
    "# for binary files : \n",
    "1. ('xb') - This mode is used for creating a new file\n",
    "2. ('rb') - This mode is used for opening the file in read mode, and the position of cursor is at the beginning.\n",
    "3. ('wb') - This mode is used for opening the file in write mode, the position of cursor is at beginning. If the file does not exists, so it creates a new file.\n",
    "4. ('ab') - This mode is used for appending the data to file, here the position of cursor is at the end. If the file does not exists it creates a new file."
   ]
  },
  {
   "cell_type": "code",
   "execution_count": null,
   "metadata": {},
   "outputs": [],
   "source": []
  },
  {
   "cell_type": "code",
   "execution_count": 18,
   "metadata": {},
   "outputs": [
    {
     "data": {
      "text/plain": [
       "5"
      ]
     },
     "execution_count": 18,
     "metadata": {},
     "output_type": "execute_result"
    }
   ],
   "source": [
    "Name = input(\"Enter your Name :\")\n",
    "file = open(\"user_name.txt\",'w')\n",
    "file.write(Name)"
   ]
  },
  {
   "cell_type": "code",
   "execution_count": 3,
   "metadata": {},
   "outputs": [],
   "source": [
    "#  ('x') - This mode is used for creating a new file\n",
    "file = open(\"sample2.txt\",'x')\n"
   ]
  },
  {
   "cell_type": "code",
   "execution_count": 6,
   "metadata": {},
   "outputs": [
    {
     "name": "stdout",
     "output_type": "stream",
     "text": [
      "We are learning file handling.\n"
     ]
    }
   ],
   "source": [
    "# read mode ('r')\n",
    "file = open(\"sample.txt\",'r')\n",
    "data = file.read()\n",
    "print(data)\n"
   ]
  },
  {
   "cell_type": "code",
   "execution_count": 12,
   "metadata": {},
   "outputs": [],
   "source": [
    "# write mode ('w')\n",
    "file = open(\"new.txt\",'w')\n",
    "file.write(\"We have opened the file in write mode\")\n",
    "file.close()"
   ]
  },
  {
   "cell_type": "code",
   "execution_count": 16,
   "metadata": {},
   "outputs": [],
   "source": [
    "# Append mode ('a')\n",
    "file = open(\"new2.txt\",'a')\n",
    "file.write(\". appending some more data in our file\")\n",
    "file.close()"
   ]
  },
  {
   "cell_type": "code",
   "execution_count": 23,
   "metadata": {},
   "outputs": [],
   "source": [
    "# read+ mode ('r+')\n",
    "file = open(\"sample.txt\",'r+')\n",
    "file.write(\"We have opened the file in read plus mode\")\n",
    "file.close()"
   ]
  },
  {
   "cell_type": "code",
   "execution_count": 22,
   "metadata": {},
   "outputs": [],
   "source": [
    "# read+ mode ('w+')\n",
    "file = open(\"sample.txt\",'w+')\n",
    "file.write(\"We have opened the file in write plus mode\")\n",
    "file.write(\"adding some more data\")\n",
    "file.close()"
   ]
  },
  {
   "cell_type": "code",
   "execution_count": 38,
   "metadata": {},
   "outputs": [
    {
     "name": "stdout",
     "output_type": "stream",
     "text": [
      "25\n",
      "0\n",
      "How are you doing today!!\n"
     ]
    }
   ],
   "source": [
    "# append+ mode (a+)\n",
    "file = open(\"sample.txt\",'w+')\n",
    "file.write(\"How are you doing today!!\")\n",
    "print(file.tell())\n",
    "file.seek(0)\n",
    "data = file.read()\n",
    "file.seek(0)\n",
    "print(file.tell())\n",
    "print(data)\n",
    "file.close()"
   ]
  },
  {
   "cell_type": "markdown",
   "metadata": {},
   "source": [
    "Write a program to take input of Basic details such as name, age, address, contact number etc \n",
    "from the user and store it in a file permanently, you can also use a dictionary for storing this info, where key will be the field like name, address and value will be the information given by the user. and then store it in a file. "
   ]
  },
  {
   "cell_type": "code",
   "execution_count": 1,
   "metadata": {},
   "outputs": [
    {
     "name": "stdout",
     "output_type": "stream",
     "text": [
      "\n",
      "{'name': 'abc', 'age': '20', 'gender': 'M', 'address': 'Delhi'}\n"
     ]
    }
   ],
   "source": [
    "def file_related(d):\n",
    "    f = open('user_info.txt', 'a')\n",
    "    f.write(str(d))\n",
    "    f.close()\n",
    "    f = open('user_info.txt', 'r')\n",
    "    data = f.read()\n",
    "    print(data)\n",
    "    f.close()\n",
    "\n",
    "keys = ['name', 'age', 'gender','address']\n",
    "values = {}\n",
    "for a in keys:\n",
    "    testdict = input(\"please enter the score for \"+str(a)+\": \")\n",
    "    values[a] = testdict\n",
    "file_related(values)"
   ]
  },
  {
   "cell_type": "code",
   "execution_count": 2,
   "metadata": {},
   "outputs": [
    {
     "name": "stdout",
     "output_type": "stream",
     "text": [
      "Name is xyz Age is 18 Salary is 15k Address is mumbai\n"
     ]
    }
   ],
   "source": [
    "new_file = open('Data_File.txt','x')\n",
    "\n",
    "Name = input('Enter your name')\n",
    "Age = input('Enter your age')\n",
    "Salary = input('Enter your salary')\n",
    "Address = input('Enter your address')\n",
    "# data = str({\"Name\":Name, \"Age\":Age})\n",
    "data = f'Name is {Name} Age is {Age} Salary is {Salary} Address is {Address}'\n",
    "updating_file = open('Data_File.txt','w+')\n",
    "updating_file.write(data)\n",
    "updating_file.seek(0)\n",
    "render = updating_file.read()\n",
    "print(render)\n",
    "updating_file.close()\n",
    "\n",
    "\n",
    "\n",
    "# file = open('Data_file.txt','r+')\n",
    "# file.write('{ Name ')\n",
    "# file.read()"
   ]
  },
  {
   "cell_type": "code",
   "execution_count": 37,
   "metadata": {},
   "outputs": [
    {
     "name": "stdout",
     "output_type": "stream",
     "text": [
      "Name : xyz\n",
      "Age : 23\n",
      "Salary : 10k\n",
      "Address : Delhi\n",
      "\n"
     ]
    }
   ],
   "source": [
    "# new_file = open('Data_File2.txt','x')\n",
    "updating_file = open('Data_File.txt','w+')\n",
    "Name = input('Enter your name')\n",
    "updating_file.write(f'Name : {Name}\\n')\n",
    "Age = input('Enter your age')\n",
    "updating_file.write(f'Age : {Age}\\n')\n",
    "Salary = input('Enter your salary')\n",
    "updating_file.write(f'Salary : {Salary}\\n')\n",
    "Address = input('Enter your address')\n",
    "updating_file.write(f'Address : {Address}\\n')\n",
    "# data = str({\"Name\":Name, \"Age\":Age})\n",
    "# data = f'Name is {Name} Age is {Age} Salary is {Salary} Address is {Address}'\n",
    "# updating_file.write(data)\n",
    "updating_file.seek(0)\n",
    "render = updating_file.read()\n",
    "print(render)\n",
    "updating_file.close()"
   ]
  },
  {
   "cell_type": "code",
   "execution_count": 4,
   "metadata": {},
   "outputs": [
    {
     "name": "stdout",
     "output_type": "stream",
     "text": [
      "Name is xyz Age is 18 Salary is 15k Address is mumbai\n",
      "\n",
      "He is a good coder, He has good coding skills\n"
     ]
    }
   ],
   "source": [
    "file = open('Data_File.txt','a+')\n",
    "file.write('\\nHe is a good coder, He has good coding skills')\n",
    "file.seek(0)\n",
    "data = file.read()\n",
    "print(data)\n",
    "file.close()"
   ]
  },
  {
   "cell_type": "code",
   "execution_count": 29,
   "metadata": {},
   "outputs": [
    {
     "name": "stdout",
     "output_type": "stream",
     "text": [
      "Name is xyz Age is 18 Salary i\n",
      "30\n"
     ]
    },
    {
     "ename": "UnsupportedOperation",
     "evalue": "can't do nonzero cur-relative seeks",
     "output_type": "error",
     "traceback": [
      "\u001b[1;31m---------------------------------------------------------------------------\u001b[0m",
      "\u001b[1;31mUnsupportedOperation\u001b[0m                      Traceback (most recent call last)",
      "\u001b[1;32m~\\AppData\\Local\\Temp\\ipykernel_15240\\681675544.py\u001b[0m in \u001b[0;36m<module>\u001b[1;34m\u001b[0m\n\u001b[0;32m     12\u001b[0m \u001b[0mprint\u001b[0m\u001b[1;33m(\u001b[0m\u001b[0mdata\u001b[0m\u001b[1;33m)\u001b[0m\u001b[1;33m\u001b[0m\u001b[1;33m\u001b[0m\u001b[0m\n\u001b[0;32m     13\u001b[0m \u001b[0mprint\u001b[0m\u001b[1;33m(\u001b[0m\u001b[0mfile\u001b[0m\u001b[1;33m.\u001b[0m\u001b[0mtell\u001b[0m\u001b[1;33m(\u001b[0m\u001b[1;33m)\u001b[0m\u001b[1;33m)\u001b[0m\u001b[1;33m\u001b[0m\u001b[1;33m\u001b[0m\u001b[0m\n\u001b[1;32m---> 14\u001b[1;33m \u001b[0mfile\u001b[0m\u001b[1;33m.\u001b[0m\u001b[0mseek\u001b[0m\u001b[1;33m(\u001b[0m\u001b[1;36m4\u001b[0m\u001b[1;33m,\u001b[0m\u001b[1;36m1\u001b[0m\u001b[1;33m)\u001b[0m\u001b[1;33m\u001b[0m\u001b[1;33m\u001b[0m\u001b[0m\n\u001b[0m\u001b[0;32m     15\u001b[0m \u001b[0mprint\u001b[0m\u001b[1;33m(\u001b[0m\u001b[0mfile\u001b[0m\u001b[1;33m.\u001b[0m\u001b[0mtell\u001b[0m\u001b[1;33m(\u001b[0m\u001b[1;33m)\u001b[0m\u001b[1;33m)\u001b[0m\u001b[1;33m\u001b[0m\u001b[1;33m\u001b[0m\u001b[0m\n\u001b[0;32m     16\u001b[0m \u001b[0mfile\u001b[0m\u001b[1;33m.\u001b[0m\u001b[0mclose\u001b[0m\u001b[1;33m(\u001b[0m\u001b[1;33m)\u001b[0m\u001b[1;33m\u001b[0m\u001b[1;33m\u001b[0m\u001b[0m\n",
      "\u001b[1;31mUnsupportedOperation\u001b[0m: can't do nonzero cur-relative seeks"
     ]
    }
   ],
   "source": [
    "# seek(offset,from) :\n",
    "# offset - how many position to move\n",
    "# from - point of reference for moving the cursor. It takes following parameters : \n",
    "# 0 - for moving the cursor from beginning.\n",
    "# 1 - for moving the cursor from the current position.\n",
    "\n",
    "file = open('Data_File.txt','r')\n",
    "# print(file.tell())\n",
    "# file.seek(0,0)\n",
    "# print(file.tell())\n",
    "data = file.read(30)\n",
    "print(data)\n",
    "print(file.tell())\n",
    "file.seek(4,1)\n",
    "print(file.tell())\n",
    "file.close()\n"
   ]
  },
  {
   "cell_type": "code",
   "execution_count": null,
   "metadata": {},
   "outputs": [],
   "source": [
    "# methods for reading the data :\n",
    "'''\n",
    "1. read() - reads the complete data from the current position of the cursor.\n",
    "2. readline() - reads the data line by line\n",
    "3. readlines() - \n",
    "'''\n"
   ]
  },
  {
   "cell_type": "code",
   "execution_count": null,
   "metadata": {},
   "outputs": [],
   "source": [
    "# readline()  \n",
    "file = open('Data_File.txt','r')\n",
    "print(file.readline())\n",
    "print(file.readline())\n",
    "print(file.readline())\n",
    "file.close()"
   ]
  },
  {
   "cell_type": "code",
   "execution_count": 21,
   "metadata": {},
   "outputs": [
    {
     "name": "stdout",
     "output_type": "stream",
     "text": [
      "['Name is xyz Age is 18 Salary is 15k Address is mumbai\\n', '\\n', 'He is a good coder, He has good coding skills']\n",
      "<class 'list'>\n"
     ]
    }
   ],
   "source": [
    "# readlines() : \n",
    "file = open('Data_File.txt','r')\n",
    "data = file.readlines()\n",
    "print(data)\n",
    "print(type(data))\n",
    "file.close()"
   ]
  },
  {
   "cell_type": "code",
   "execution_count": 20,
   "metadata": {},
   "outputs": [
    {
     "name": "stdout",
     "output_type": "stream",
     "text": [
      "Name is xyz Age is 18 Salary is 15k Address is mumbai\n",
      "\n",
      "He is a good coder, He ha\n"
     ]
    }
   ],
   "source": [
    "# read() : \n",
    "file = open('Data_File.txt','r')\n",
    "print(file.read(80))\n",
    "file.close()"
   ]
  },
  {
   "cell_type": "markdown",
   "metadata": {},
   "source": []
  },
  {
   "cell_type": "code",
   "execution_count": 33,
   "metadata": {},
   "outputs": [],
   "source": [
    "import os\n",
    "\n",
    "# rename the file : \n",
    "os.rename(\"new.txt\",\"User_details.txt\")\n"
   ]
  },
  {
   "cell_type": "code",
   "execution_count": 34,
   "metadata": {},
   "outputs": [],
   "source": [
    "# remove the file :\n",
    "os.remove(\"User_details.txt\")"
   ]
  },
  {
   "cell_type": "code",
   "execution_count": 35,
   "metadata": {},
   "outputs": [],
   "source": [
    "# Creating a new folder in current working directory\n",
    "os.mkdir(\"New Folder\")"
   ]
  },
  {
   "cell_type": "code",
   "execution_count": 38,
   "metadata": {},
   "outputs": [
    {
     "data": {
      "text/plain": [
       "'c:\\\\Users\\\\divya.gupta\\\\desktop\\\\DS250723 Python Tutorials'"
      ]
     },
     "execution_count": 38,
     "metadata": {},
     "output_type": "execute_result"
    }
   ],
   "source": [
    "os.getcwd()"
   ]
  },
  {
   "cell_type": "code",
   "execution_count": 39,
   "metadata": {},
   "outputs": [],
   "source": [
    "c:\\\\Users\\\\divya.gupta\\\\desktop\\\\DS250723 Python Tutorials\\\\os.chdir('modules and package')"
   ]
  },
  {
   "cell_type": "code",
   "execution_count": 44,
   "metadata": {},
   "outputs": [],
   "source": [
    "os.getcwd()\n",
    "# os.mkdir(\"New_folder2\")\n",
    "file = open(\"new_file.txt\",'x')"
   ]
  },
  {
   "cell_type": "code",
   "execution_count": 47,
   "metadata": {},
   "outputs": [],
   "source": [
    "os.rmdir(\"c:\\\\Users\\\\divya.gupta\\\\desktop\\\\DS250723 Python Tutorials\\\\New folder\")"
   ]
  },
  {
   "cell_type": "markdown",
   "metadata": {},
   "source": [
    "\n"
   ]
  },
  {
   "cell_type": "code",
   "execution_count": 48,
   "metadata": {},
   "outputs": [
    {
     "name": "stdout",
     "output_type": "stream",
     "text": [
      "{'Name': 'abc', 'education': 'Bsc', 'Address': 'Delhi'}\n"
     ]
    },
    {
     "data": {
      "text/plain": [
       "55"
      ]
     },
     "execution_count": 48,
     "metadata": {},
     "output_type": "execute_result"
    }
   ],
   "source": [
    "stud_info= {}\n",
    "\n",
    "for i in range(3):\n",
    "    key = input(\"Enter key: \")\n",
    "    value = input(\"Enter value: \")\n",
    "    stud_info[key] = value\n",
    " \n",
    "print(stud_info)\n",
    "res=str(stud_info)\n",
    "file=open(\"stud_info.txt\",'a+')\n",
    "file.write(res)"
   ]
  },
  {
   "cell_type": "code",
   "execution_count": 59,
   "metadata": {},
   "outputs": [
    {
     "name": "stdout",
     "output_type": "stream",
     "text": [
      "False\n",
      "True\n"
     ]
    }
   ],
   "source": [
    "file = open(\"stud_info.txt\",\"r\")\n",
    "file.read()\n",
    "print(file.closed)\n",
    "file.close()\n",
    "print(file.closed)"
   ]
  },
  {
   "cell_type": "code",
   "execution_count": 61,
   "metadata": {},
   "outputs": [
    {
     "name": "stdout",
     "output_type": "stream",
     "text": [
      "0\n",
      "{'Name': 'abc', 'education': 'Bsc', 'Address': 'Delhi'}\n"
     ]
    },
    {
     "data": {
      "text/plain": [
       "True"
      ]
     },
     "execution_count": 61,
     "metadata": {},
     "output_type": "execute_result"
    }
   ],
   "source": [
    "with open(\"stud_info.txt\",\"r\") as file:\n",
    "    print(file.tell())\n",
    "    print(file.read())\n",
    "\n",
    "file.closed\n"
   ]
  },
  {
   "cell_type": "code",
   "execution_count": 63,
   "metadata": {},
   "outputs": [
    {
     "name": "stdout",
     "output_type": "stream",
     "text": [
      "['Name : xyz\\n', 'Age : 23\\n', 'Salary : 10k\\n', 'Address : Delhi\\n']\n",
      "5\n"
     ]
    }
   ],
   "source": [
    "file = open('c:\\\\Users\\\\divya.gupta\\\\desktop\\\\DS250723 Python Tutorials\\\\Data_File.txt','r')\n",
    "data = file.readlines()\n",
    "print(data)\n",
    "count = 0\n",
    "for i in data:\n",
    "    if '\\n' in i:\n",
    "        count = count + 1\n",
    "print(count+1)"
   ]
  },
  {
   "cell_type": "code",
   "execution_count": 64,
   "metadata": {},
   "outputs": [
    {
     "name": "stdout",
     "output_type": "stream",
     "text": [
      "['Name : xyz\\n', 'Age : 23\\n', 'Salary : 10k\\n', 'Address : Delhi\\n']\n",
      "4\n"
     ]
    }
   ],
   "source": [
    "file = open('c:\\\\Users\\\\divya.gupta\\\\desktop\\\\DS250723 Python Tutorials\\\\Data_File.txt','r')\n",
    "data = file.readlines()\n",
    "print(data)\n",
    "print(len(data))"
   ]
  }
 ],
 "metadata": {
  "kernelspec": {
   "display_name": "Python 3",
   "language": "python",
   "name": "python3"
  },
  "language_info": {
   "codemirror_mode": {
    "name": "ipython",
    "version": 3
   },
   "file_extension": ".py",
   "mimetype": "text/x-python",
   "name": "python",
   "nbconvert_exporter": "python",
   "pygments_lexer": "ipython3",
   "version": "3.9.13"
  },
  "orig_nbformat": 4
 },
 "nbformat": 4,
 "nbformat_minor": 2
}
