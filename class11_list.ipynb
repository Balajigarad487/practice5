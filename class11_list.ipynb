{
 "cells": [
  {
   "cell_type": "code",
   "execution_count": null,
   "metadata": {},
   "outputs": [],
   "source": [
    "# list : A list is a collection of heterogeneous elements. It is mutable in nature and comes under the category of\n",
    "# sequence data type.\n",
    "''' Methods of list :\n",
    "1. append() - used to add a new element at the end of the list.\n",
    "2. insert() - used to add a new element at specific index.\n",
    "3. extend() - used to add new elements from other list in our existing list.append\n",
    "4. pop() - used to remove an element by its index value, by default it removes the last element.\n",
    "5. remove() - used to remove an element by its value, it takes exactly one argument.\n",
    "6. clear() - used delete all the elements and to make the list empty.\n",
    "7. join() - used to convert a list to string\n",
    "8. sort() - used to sort values in ascending or descending order.\n",
    "9. len() - returns the length of list\n",
    "'''"
   ]
  },
  {
   "cell_type": "code",
   "execution_count": 1,
   "metadata": {},
   "outputs": [
    {
     "name": "stdout",
     "output_type": "stream",
     "text": [
      "[23, 34, 32, 35, 45, 41, 50, 56, 'New element']\n"
     ]
    }
   ],
   "source": [
    "# append()\n",
    "lst = [23,34,32,35,45,41,50,56]\n",
    "lst.append(\"New element\")\n",
    "print(lst)"
   ]
  },
  {
   "cell_type": "code",
   "execution_count": 2,
   "metadata": {},
   "outputs": [
    {
     "name": "stdout",
     "output_type": "stream",
     "text": [
      "[23, 34, 32, ['apple', 'guava', 'mango'], 35, 45, 41, 50, 56]\n"
     ]
    }
   ],
   "source": [
    "# insert(index,value)\n",
    "lst = [23,34,32,35,45,41,50,56]\n",
    "lst.insert(3,[\"apple\",\"guava\",\"mango\"])\n",
    "print(lst)\n"
   ]
  },
  {
   "cell_type": "code",
   "execution_count": 6,
   "metadata": {},
   "outputs": [
    {
     "name": "stdout",
     "output_type": "stream",
     "text": [
      "[10, 20, 30, 40, 50, 60, 70, 880, 90, 100]\n"
     ]
    }
   ],
   "source": [
    "# extend\n",
    "lst1 = [10,20,30,40,50]\n",
    "lst2 = [60,70,880,90,100]\n",
    "# lst1.append(lst2)\n",
    "lst1.extend(lst2)\n",
    "print(lst1)"
   ]
  },
  {
   "cell_type": "code",
   "execution_count": 18,
   "metadata": {},
   "outputs": [
    {
     "name": "stdout",
     "output_type": "stream",
     "text": [
      "35\n",
      "[23, 34, 32, 45, 41]\n"
     ]
    }
   ],
   "source": [
    "# pop()\n",
    "lst = [23,34,32,35,45,41,50,56]\n",
    "ele = lst.pop(3)\n",
    "print(ele)\n",
    "lst.pop()                 # Removes the last element by default\n",
    "lst.pop(5)             # Removes the element present at specified index. gives index error if index is out of range.\n",
    "print(lst)"
   ]
  },
  {
   "cell_type": "code",
   "execution_count": 20,
   "metadata": {},
   "outputs": [
    {
     "name": "stdout",
     "output_type": "stream",
     "text": [
      "[23, 34, 35, 45, 41, 50, 56]\n",
      "None\n"
     ]
    }
   ],
   "source": [
    "# remove()\n",
    "lst = [23,34,32,35,45,41,50,56]\n",
    "lst.remove(32)       # used to remove specific element from the list, value is passed as argument.\n",
    "lst.remove(100)      #Raise a value error if the element is not present in the list\n",
    "print(lst)\n",
    "print(ele)\n"
   ]
  },
  {
   "cell_type": "code",
   "execution_count": 16,
   "metadata": {},
   "outputs": [
    {
     "name": "stdout",
     "output_type": "stream",
     "text": [
      "[]\n"
     ]
    }
   ],
   "source": [
    "# clear() \n",
    "lst = [23,34,32,35,45,41,50,56]\n",
    "lst.clear()\n",
    "print(lst)\n"
   ]
  },
  {
   "cell_type": "code",
   "execution_count": 21,
   "metadata": {},
   "outputs": [
    {
     "ename": "NameError",
     "evalue": "name 'lst' is not defined",
     "output_type": "error",
     "traceback": [
      "\u001b[1;31m---------------------------------------------------------------------------\u001b[0m",
      "\u001b[1;31mNameError\u001b[0m                                 Traceback (most recent call last)",
      "\u001b[1;32m~\\AppData\\Local\\Temp\\ipykernel_16144\\3231069229.py\u001b[0m in \u001b[0;36m<module>\u001b[1;34m\u001b[0m\n\u001b[0;32m      1\u001b[0m \u001b[0mlst\u001b[0m \u001b[1;33m=\u001b[0m \u001b[1;33m[\u001b[0m\u001b[1;36m23\u001b[0m\u001b[1;33m,\u001b[0m\u001b[1;36m34\u001b[0m\u001b[1;33m,\u001b[0m\u001b[1;36m32\u001b[0m\u001b[1;33m,\u001b[0m\u001b[1;36m35\u001b[0m\u001b[1;33m,\u001b[0m\u001b[1;36m45\u001b[0m\u001b[1;33m,\u001b[0m\u001b[1;36m41\u001b[0m\u001b[1;33m,\u001b[0m\u001b[1;36m50\u001b[0m\u001b[1;33m,\u001b[0m\u001b[1;36m56\u001b[0m\u001b[1;33m]\u001b[0m\u001b[1;33m\u001b[0m\u001b[1;33m\u001b[0m\u001b[0m\n\u001b[0;32m      2\u001b[0m \u001b[1;32mdel\u001b[0m \u001b[0mlst\u001b[0m\u001b[1;33m\u001b[0m\u001b[1;33m\u001b[0m\u001b[0m\n\u001b[1;32m----> 3\u001b[1;33m \u001b[0mprint\u001b[0m\u001b[1;33m(\u001b[0m\u001b[0mlst\u001b[0m\u001b[1;33m)\u001b[0m\u001b[1;33m\u001b[0m\u001b[1;33m\u001b[0m\u001b[0m\n\u001b[0m",
      "\u001b[1;31mNameError\u001b[0m: name 'lst' is not defined"
     ]
    }
   ],
   "source": [
    "lst = [23,34,32,35,45,41,50,56]\n",
    "del lst\n",
    "print(lst)"
   ]
  },
  {
   "cell_type": "code",
   "execution_count": 26,
   "metadata": {},
   "outputs": [
    {
     "data": {
      "text/plain": [
       "[23, 34, 32, 35, 45, 300, 100, 56]"
      ]
     },
     "execution_count": 26,
     "metadata": {},
     "output_type": "execute_result"
    }
   ],
   "source": [
    "# modifying an element at certain index\n",
    "lst = [23,34,32,35,45,41,50,56]\n",
    "lst[6] = 100         # assigns new value to the mentioned index if it is present.\n",
    "# lst[10] = 20         # Throws index error if the index is not present.\n",
    "lst[-3] = 300\n",
    "lst\n"
   ]
  },
  {
   "cell_type": "code",
   "execution_count": 32,
   "metadata": {},
   "outputs": [
    {
     "name": "stdout",
     "output_type": "stream",
     "text": [
      "[34, 45]\n"
     ]
    }
   ],
   "source": [
    "# slicing in list : \n",
    "lst = [23,34,32,35,45,41,50,56]\n",
    "lst[2:5]\n",
    "lst[-5:-1]\n",
    "lst[::-1]\n",
    "lst[-1:-7:-2]\n",
    "print(lst[1:6:3])\n"
   ]
  },
  {
   "cell_type": "code",
   "execution_count": 39,
   "metadata": {},
   "outputs": [
    {
     "name": "stdout",
     "output_type": "stream",
     "text": [
      "<class 'str'>\n",
      "<class 'list'>\n"
     ]
    }
   ],
   "source": [
    "# join()\n",
    "\n",
    "lst = [\"We\",\"are\",\"learning\",\"about\",\"list inbuilt methods\"]\n",
    "topic = \"...\".join(lst)\n",
    "topic\n",
    "print(type(topic))\n",
    "print(type(lst))"
   ]
  },
  {
   "cell_type": "code",
   "execution_count": 42,
   "metadata": {},
   "outputs": [
    {
     "name": "stdout",
     "output_type": "stream",
     "text": [
      "[150, 100, 89, 87, 67, 61, 44, 32, 31, 29, 23, 10]\n"
     ]
    }
   ],
   "source": [
    "lst = [44,32,67,89,31,29,87,61,23,10,100,150]\n",
    "lst.sort(reverse = True)\n",
    "lst.sort()\n",
    "print(lst)"
   ]
  },
  {
   "cell_type": "code",
   "execution_count": 43,
   "metadata": {},
   "outputs": [
    {
     "name": "stdout",
     "output_type": "stream",
     "text": [
      "12\n"
     ]
    }
   ],
   "source": [
    "lst = [44,32,67,89,31,29,87,61,23,10,100,150]\n",
    "length = len(lst)\n",
    "print(length)"
   ]
  },
  {
   "cell_type": "code",
   "execution_count": 48,
   "metadata": {},
   "outputs": [
    {
     "name": "stdout",
     "output_type": "stream",
     "text": [
      "nohtyp\n",
      "not palindrome\n"
     ]
    }
   ],
   "source": [
    "# write a program to check whether the given string is palindrome or not.\n",
    "# palindrome means reverse will be same as the original string.\n",
    "# e.g MOM, DAD, MADAM, MALAYALAM.\n",
    "str=\"python\"\n",
    "l=len(str)                          # length = 5, index = [0,1,2,3,4]\n",
    "reverse = ''\n",
    "for i in range(l):\n",
    "      reverse += str[l-i-1]   \n",
    "\n",
    "if reverse == str:\n",
    "    print(\"palindrome\")\n",
    "else:\n",
    "    print(\"not palindrome\")\n"
   ]
  }
 ],
 "metadata": {
  "kernelspec": {
   "display_name": "Python 3",
   "language": "python",
   "name": "python3"
  },
  "language_info": {
   "codemirror_mode": {
    "name": "ipython",
    "version": 3
   },
   "file_extension": ".py",
   "mimetype": "text/x-python",
   "name": "python",
   "nbconvert_exporter": "python",
   "pygments_lexer": "ipython3",
   "version": "3.9.13"
  },
  "orig_nbformat": 4
 },
 "nbformat": 4,
 "nbformat_minor": 2
}
